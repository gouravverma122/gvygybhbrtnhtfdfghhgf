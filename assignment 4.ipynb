{
 "cells": [
  {
   "cell_type": "code",
   "execution_count": 10,
   "id": "dd51808d",
   "metadata": {},
   "outputs": [
    {
     "data": {
      "text/plain": [
       "\"The empty list value, which is a list value that contains no items. This is similar to how '' is the empty string value.\""
      ]
     },
     "execution_count": 10,
     "metadata": {},
     "output_type": "execute_result"
    }
   ],
   "source": [
    "#What exactly is []?\n",
    "\n",
    "\"\"\"The empty list value, which is a list value that contains no items. This is similar to how '' is the empty string value.\"\"\""
   ]
  },
  {
   "cell_type": "code",
   "execution_count": 11,
   "id": "b6913582",
   "metadata": {},
   "outputs": [
    {
     "name": "stdout",
     "output_type": "stream",
     "text": [
      "[2, 4, 'hello', 6, 8, 10]\n"
     ]
    }
   ],
   "source": [
    "#\"\"\"\"In a list of values stored in a variable called spam, how would you assign the value \"hello\" as the third value? (Assume [2, 4, 6, 8, 10] are in spam.)\"\"\"\"\n",
    "spam=[2,4,6,8,10]\n",
    "spam.insert(2, \"hello\")\n",
    "print(spam)"
   ]
  },
  {
   "cell_type": "code",
   "execution_count": 7,
   "id": "6cee5bb7",
   "metadata": {},
   "outputs": [
    {
     "data": {
      "text/plain": [
       "'Let,s pretend the spam includes the list [\"a\", \"b\", \"c\", \"d\"] for the next three queries.'"
      ]
     },
     "execution_count": 7,
     "metadata": {},
     "output_type": "execute_result"
    }
   ],
   "source": [
    "\"\"\"Let,s pretend the spam includes the list [\"a\", \"b\", \"c\", \"d\"] for the next three queries.\"\"\""
   ]
  },
  {
   "cell_type": "code",
   "execution_count": 22,
   "id": "be1bd83a",
   "metadata": {},
   "outputs": [],
   "source": [
    "#What is the value of spam[int(int(\"3\" * 2) / 11)]?\n",
    "spam=[\"a\",\"b\",\"c\",\"d\"]\n"
   ]
  },
  {
   "cell_type": "code",
   "execution_count": 20,
   "id": "21e136f0",
   "metadata": {},
   "outputs": [
    {
     "data": {
      "text/plain": [
       "\"'d' (Note that '3' * 2 is the string '33', which is passed to int() before being divided by 11. This eventually evaluates to 3. Expressions can be used wherever values are used.)\""
      ]
     },
     "execution_count": 20,
     "metadata": {},
     "output_type": "execute_result"
    }
   ],
   "source": [
    "spam[int(int(\"3\" * 2) / 11)]\n",
    "\"\"\"'d' (Note that '3' * 2 is the string '33', which is passed to int() before being divided by 11. This eventually evaluates to 3. Expressions can be used wherever values are used.)\"\"\""
   ]
  },
  {
   "cell_type": "code",
   "execution_count": 16,
   "id": "6e7f7dae",
   "metadata": {},
   "outputs": [
    {
     "data": {
      "text/plain": [
       "\"'d' (Negative indexes count from the end.)\""
      ]
     },
     "execution_count": 16,
     "metadata": {},
     "output_type": "execute_result"
    }
   ],
   "source": [
    "#What is the value of spam[-1]?\n",
    "\n",
    "\"\"\"'d' (Negative indexes count from the end.)\"\"\""
   ]
  },
  {
   "cell_type": "code",
   "execution_count": 17,
   "id": "daf61797",
   "metadata": {},
   "outputs": [
    {
     "data": {
      "text/plain": [
       "'d'"
      ]
     },
     "execution_count": 17,
     "metadata": {},
     "output_type": "execute_result"
    }
   ],
   "source": [
    "spam[-1]"
   ]
  },
  {
   "cell_type": "code",
   "execution_count": 18,
   "id": "9d777de4",
   "metadata": {},
   "outputs": [
    {
     "data": {
      "text/plain": [
       "['a', 'b']"
      ]
     },
     "execution_count": 18,
     "metadata": {},
     "output_type": "execute_result"
    }
   ],
   "source": [
    "#What is the value of spam[:2]?\n",
    "spam[:2]"
   ]
  },
  {
   "cell_type": "code",
   "execution_count": 62,
   "id": "0fac1f93",
   "metadata": {},
   "outputs": [],
   "source": [
    "#Let,s pretend bacon has the list [3.14, \"cat\", 11,\"cat\", True] for the next three questions.\n",
    "bacon=[3.14, \"cat\", 11,\"cat\", True]\n"
   ]
  },
  {
   "cell_type": "code",
   "execution_count": 63,
   "id": "fc99f480",
   "metadata": {},
   "outputs": [
    {
     "data": {
      "text/plain": [
       "1"
      ]
     },
     "execution_count": 63,
     "metadata": {},
     "output_type": "execute_result"
    }
   ],
   "source": [
    "#What is the value of bacon.index(\"cat\")?\n",
    "bacon.index(\"cat\")"
   ]
  },
  {
   "cell_type": "code",
   "execution_count": 64,
   "id": "eb711a5b",
   "metadata": {},
   "outputs": [
    {
     "data": {
      "text/plain": [
       "[3.14, 'cat', 11, 'cat', True, 99]"
      ]
     },
     "execution_count": 64,
     "metadata": {},
     "output_type": "execute_result"
    }
   ],
   "source": [
    "#How does bacon.append(99) change the look of the list value in bacon?\n",
    "bacon.append(99)\n",
    "bacon"
   ]
  },
  {
   "cell_type": "code",
   "execution_count": 65,
   "id": "177277f1",
   "metadata": {},
   "outputs": [
    {
     "data": {
      "text/plain": [
       "[3.14, 11, 'cat', True, 99]"
      ]
     },
     "execution_count": 65,
     "metadata": {},
     "output_type": "execute_result"
    }
   ],
   "source": [
    "#How does bacon.remove(&#39;cat&#39;) change the look of the list in bacon?\n",
    "bacon.remove(\"cat\")\n",
    "bacon\n"
   ]
  },
  {
   "cell_type": "code",
   "execution_count": 66,
   "id": "70db6147",
   "metadata": {},
   "outputs": [
    {
     "data": {
      "text/plain": [
       "'The operator for list concatenation is +, while the operator for replication is *. (This is the same as for strings.)'"
      ]
     },
     "execution_count": 66,
     "metadata": {},
     "output_type": "execute_result"
    }
   ],
   "source": [
    "#What are the list concatenation and list replication operators?\n",
    "\"\"\"The operator for list concatenation is +, while the operator for replication is *. (This is the same as for strings.)\"\"\""
   ]
  },
  {
   "cell_type": "code",
   "execution_count": 99,
   "id": "dc0bc2c7",
   "metadata": {},
   "outputs": [
    {
     "data": {
      "text/plain": [
       "[1, 2, 3, 'gourav', 1, 2, 4, 'verma']"
      ]
     },
     "execution_count": 99,
     "metadata": {},
     "output_type": "execute_result"
    }
   ],
   "source": [
    "#list concatenation \n",
    "a=[1,2,3,\"gourav\"]\n",
    "b=[1,2,4,\"verma\"]\n",
    "c=a+b\n",
    "c"
   ]
  },
  {
   "cell_type": "code",
   "execution_count": 100,
   "id": "27fa9f48",
   "metadata": {},
   "outputs": [
    {
     "data": {
      "text/plain": [
       "[1, 2, 4, 'verma', 1, 2, 3, 'gourav']"
      ]
     },
     "execution_count": 100,
     "metadata": {},
     "output_type": "execute_result"
    }
   ],
   "source": [
    "b+=a\n",
    "b"
   ]
  },
  {
   "cell_type": "code",
   "execution_count": 101,
   "id": "931a148a",
   "metadata": {},
   "outputs": [
    {
     "data": {
      "text/plain": [
       "[1, 2, 3, 'gourav', 1, 2, 3, 'gourav', 1, 2, 3, 'gourav']"
      ]
     },
     "execution_count": 101,
     "metadata": {},
     "output_type": "execute_result"
    }
   ],
   "source": [
    "#list replication\n",
    "d=a*3\n",
    "d\n"
   ]
  },
  {
   "cell_type": "code",
   "execution_count": 102,
   "id": "6fc3eac1",
   "metadata": {},
   "outputs": [
    {
     "data": {
      "text/plain": [
       "[1, 2, 3, 'gourav', 1, 2, 3, 'gourav', 1, 2, 3, 'gourav']"
      ]
     },
     "execution_count": 102,
     "metadata": {},
     "output_type": "execute_result"
    }
   ],
   "source": [
    "a*=3\n",
    "a"
   ]
  },
  {
   "cell_type": "code",
   "execution_count": 103,
   "id": "5acf696d",
   "metadata": {},
   "outputs": [
    {
     "data": {
      "text/plain": [
       "'While append() will add values only to the end of a list, insert() can add them anywhere in the list.'"
      ]
     },
     "execution_count": 103,
     "metadata": {},
     "output_type": "execute_result"
    }
   ],
   "source": [
    "#What is difference between the list methods append() and insert()?\n",
    "\"\"\"While append() will add values only to the end of a list, insert() can add them anywhere in the list.\"\"\""
   ]
  },
  {
   "cell_type": "code",
   "execution_count": 112,
   "id": "527e7ad7",
   "metadata": {},
   "outputs": [
    {
     "data": {
      "text/plain": [
       "[1, 2, 'gourav']"
      ]
     },
     "execution_count": 112,
     "metadata": {},
     "output_type": "execute_result"
    }
   ],
   "source": [
    "#What are the two methods for removing items from a list?\n",
    "\"\"\"While append() will add values only to the end of a list, insert() can add them anywhere in the list.\"\"\"\n",
    "a=[1,2,3,\"gourav\"]\n",
    "del a[2]\n",
    "a"
   ]
  },
  {
   "cell_type": "code",
   "execution_count": 117,
   "id": "8da4871d",
   "metadata": {},
   "outputs": [
    {
     "data": {
      "text/plain": [
       "[1, 2, 4]"
      ]
     },
     "execution_count": 117,
     "metadata": {},
     "output_type": "execute_result"
    }
   ],
   "source": [
    "#how to use remove fun\n",
    "b=[1,2,4,\"verma\"]\n",
    "b.remove(\"verma\")\n",
    "b"
   ]
  },
  {
   "cell_type": "code",
   "execution_count": 119,
   "id": "0a17f29e",
   "metadata": {},
   "outputs": [
    {
     "data": {
      "text/plain": [
       "'Both lists and strings can be passed to len(), have indexes and slices, be used in for loops, be concatenated or replicated, and be used with the in and not in operators.'"
      ]
     },
     "execution_count": 119,
     "metadata": {},
     "output_type": "execute_result"
    }
   ],
   "source": [
    "#Describe how list values and string values are identical.\n",
    "\"\"\"Both lists and strings can be passed to len(), have indexes and slices, be used in for loops, be concatenated or replicated, and be used with the in and not in operators.\"\"\""
   ]
  },
  {
   "cell_type": "code",
   "execution_count": 121,
   "id": "b8fe7b12",
   "metadata": {},
   "outputs": [
    {
     "data": {
      "text/plain": [
       "'Lists are mutable; they can have values added, removed, or changed. Tuples are immutable; they cannot be changed at all. Also, tuples are written using parentheses, ( and ), while lists use the square brackets,'"
      ]
     },
     "execution_count": 121,
     "metadata": {},
     "output_type": "execute_result"
    }
   ],
   "source": [
    "#What,s the difference between tuples and lists?\n",
    "\"\"\"Lists are mutable; they can have values added, removed, or changed. Tuples are immutable; they cannot be changed at all. Also, tuples are written using parentheses, ( and ), while lists use the square brackets,\"\"\""
   ]
  },
  {
   "cell_type": "code",
   "execution_count": 128,
   "id": "da18f3ad",
   "metadata": {},
   "outputs": [
    {
     "data": {
      "text/plain": [
       "(42,)"
      ]
     },
     "execution_count": 128,
     "metadata": {},
     "output_type": "execute_result"
    }
   ],
   "source": [
    "#How do you type a tuple value that only contains the integer 42?\n",
    "a=(42,)\n",
    "\"\"\"Trailing coma is mandatory\"\"\"\n",
    "a"
   ]
  },
  {
   "cell_type": "code",
   "execution_count": 9,
   "id": "2c1cfc35",
   "metadata": {},
   "outputs": [
    {
     "data": {
      "text/plain": [
       "[24, 3, 24, 2, 4, 24, 234]"
      ]
     },
     "execution_count": 9,
     "metadata": {},
     "output_type": "execute_result"
    }
   ],
   "source": [
    "#How do you get a list value's tuple form? How do you get a tuple value's list form?\n",
    "\"\"\"list from a tuple\"\"\"\n",
    "t= (24,3,24,2,4,24,234)\n",
    "a=list(t)\n",
    "a\n"
   ]
  },
  {
   "cell_type": "code",
   "execution_count": 11,
   "id": "cdbbe3ae",
   "metadata": {},
   "outputs": [
    {
     "data": {
      "text/plain": [
       "(24, 3, 24, 2, 4, 24, 234)"
      ]
     },
     "execution_count": 11,
     "metadata": {},
     "output_type": "execute_result"
    }
   ],
   "source": [
    "\"\"\"tuple from list\"\"\"\n",
    "a=[24, 3, 24, 2, 4, 24, 234]\n",
    "b=tuple(a)\n",
    "b"
   ]
  },
  {
   "cell_type": "code",
   "execution_count": 12,
   "id": "7124d782",
   "metadata": {},
   "outputs": [
    {
     "data": {
      "text/plain": [
       "'They contain references to list values.'"
      ]
     },
     "execution_count": 12,
     "metadata": {},
     "output_type": "execute_result"
    }
   ],
   "source": [
    "#Variables that \"contain\" list values are not necessarily lists themselves. Instead, what do they contain?\n",
    "\"\"\"They contain references to list values.\"\"\"\n"
   ]
  },
  {
   "cell_type": "code",
   "execution_count": 15,
   "id": "e18f1880",
   "metadata": {},
   "outputs": [
    {
     "data": {
      "text/plain": [
       "'The copy.copy() function will do a shallow copy of a list, while the copy.deepcopy() function will do a deep copy of a list. That is, only copy.deepcopy() will duplicate any lists inside the list.'"
      ]
     },
     "execution_count": 15,
     "metadata": {},
     "output_type": "execute_result"
    }
   ],
   "source": [
    "#How do you distinguish between copy.copy() and copy.deepcopy()?\n",
    "\"\"\"The copy.copy() function will do a shallow copy of a list, while the copy.deepcopy() function will do a deep copy of a list. That is, only copy.deepcopy() will duplicate any lists inside the list.\"\"\""
   ]
  },
  {
   "cell_type": "code",
   "execution_count": 7,
   "id": "dc82362e",
   "metadata": {},
   "outputs": [],
   "source": [
    "#importing copy module\n",
    "import copy\n",
    "a=[24, 3, 24, 2, 4, 24, 234]\n",
    "#using copy for shalow copy\n",
    "b=copy.copy(a)\n",
    "#using copy for deep copy\n",
    "c=copy.deepcopy(b)"
   ]
  },
  {
   "cell_type": "code",
   "execution_count": null,
   "id": "cd5c77ab",
   "metadata": {},
   "outputs": [],
   "source": []
  }
 ],
 "metadata": {
  "kernelspec": {
   "display_name": "Python 3 (ipykernel)",
   "language": "python",
   "name": "python3"
  },
  "language_info": {
   "codemirror_mode": {
    "name": "ipython",
    "version": 3
   },
   "file_extension": ".py",
   "mimetype": "text/x-python",
   "name": "python",
   "nbconvert_exporter": "python",
   "pygments_lexer": "ipython3",
   "version": "3.9.7"
  }
 },
 "nbformat": 4,
 "nbformat_minor": 5
}
