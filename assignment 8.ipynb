{
 "cells": [
  {
   "cell_type": "markdown",
   "id": "2ba29cc2",
   "metadata": {},
   "source": [
    "Q1 : Is the Python Standard Library included with PyInputPlus?\n",
    "\n",
    "Ans: PyInputPlus is not a part of the Python Standard Library, so you must install it separately using Pip. To install PyInputPlus, run pip install --user pyinputplus from the command line"
   ]
  },
  {
   "cell_type": "markdown",
   "id": "bcf5e37d",
   "metadata": {},
   "source": [
    "Q2 : Why is PyInputPlus commonly imported with import pyinputplus as pypi?\n",
    "\n",
    "Ans: The as pyip code in the import statement saves us from typing pyinputplus each time we want to call a  PyInputPlus function. Instead we can use the shorter pyip name."
   ]
  },
  {
   "cell_type": "markdown",
   "id": "b4843ff9",
   "metadata": {},
   "source": [
    "Q3 : How do you distinguish between inputInt() and inputFloat()?\n",
    "\n",
    "Ans: inputInt() : Accepts an integer value. This also takes additional parameters 'min', 'max', 'greaterThan' and 'lessThan' for bounds. Returns an int. inputFloat() : Accepts a floating-point numeric value."
   ]
  },
  {
   "cell_type": "markdown",
   "id": "83e8b8f1",
   "metadata": {},
   "source": [
    "Q4 : Using PyInputPlus, how do you ensure that the user enters a whole number between 0 and 99?\n",
    "    \n",
    "Ans: By using pyip.inputint(min=0, max=99)"
   ]
  },
  {
   "cell_type": "markdown",
   "id": "96d0b04e",
   "metadata": {},
   "source": [
    "Q5 : What is transferred to the keyword arguments allowRegexes and blockRegexes?\n",
    "\n",
    "Ans: You can also use regular expressions to specify whether an input is allowed or not. The allowRegexes and blockRegexes keyword arguments take a list of regular expression strings to determine what the PyInputPlus function will accept or reject as valid input."
   ]
  },
  {
   "cell_type": "markdown",
   "id": "a0de31df",
   "metadata": {},
   "source": [
    "Q6 : If a blank input is entered three times, what does inputStr(limit=3) do?\n",
    "\n",
    "Ans: It will raise an RetryLimitException exception"
   ]
  },
  {
   "cell_type": "markdown",
   "id": "dbd75261",
   "metadata": {},
   "source": [
    "Q7 : If blank input is entered three times, what does inputStr(limit=3, default'hello') do?\n",
    "\n",
    "Ans: it will return default value  'hello'"
   ]
  }
 ],
 "metadata": {
  "kernelspec": {
   "display_name": "Python 3 (ipykernel)",
   "language": "python",
   "name": "python3"
  },
  "language_info": {
   "codemirror_mode": {
    "name": "ipython",
    "version": 3
   },
   "file_extension": ".py",
   "mimetype": "text/x-python",
   "name": "python",
   "nbconvert_exporter": "python",
   "pygments_lexer": "ipython3",
   "version": "3.9.7"
  }
 },
 "nbformat": 4,
 "nbformat_minor": 5
}
