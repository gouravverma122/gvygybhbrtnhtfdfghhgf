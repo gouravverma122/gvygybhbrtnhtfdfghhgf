{
 "cells": [
  {
   "cell_type": "code",
   "execution_count": 15,
   "id": "35a04f41",
   "metadata": {},
   "outputs": [],
   "source": [
    "1. #In the below elements which of them are values or an expression? \n",
    "#eg:- values can be integer or string and expressions will be mathematical operators.\n",
    "values = \"hello   -87.8    6\" \n",
    "expressions= \"* - / +\""
   ]
  },
  {
   "cell_type": "code",
   "execution_count": 35,
   "id": "3fc63f4c",
   "metadata": {},
   "outputs": [
    {
     "ename": "SyntaxError",
     "evalue": "invalid syntax (1841062944.py, line 2)",
     "output_type": "error",
     "traceback": [
      "\u001b[0;36m  File \u001b[0;32m\"/var/folders/hd/ydk6mn5157b0c67q32svhf8r0000gn/T/ipykernel_2449/1841062944.py\"\u001b[0;36m, line \u001b[0;32m2\u001b[0m\n\u001b[0;31m    String= \"String can be written in quotes such: \"gourav\"\"\u001b[0m\n\u001b[0m                                                    ^\u001b[0m\n\u001b[0;31mSyntaxError\u001b[0m\u001b[0;31m:\u001b[0m invalid syntax\n"
     ]
    }
   ],
   "source": [
    "#What is the difference between string and variable?\n",
    "String= \"String can be written in quotes such: \"gourav\"\"\n",
    "\n",
    "Variable= \"It is the thing in which we can store data just like a container\"."
   ]
  },
  {
   "cell_type": "code",
   "execution_count": 30,
   "id": "e8407793",
   "metadata": {},
   "outputs": [
    {
     "ename": "SyntaxError",
     "evalue": "invalid syntax (929193464.py, line 2)",
     "output_type": "error",
     "traceback": [
      "\u001b[0;36m  File \u001b[0;32m\"/var/folders/hd/ydk6mn5157b0c67q32svhf8r0000gn/T/ipykernel_2449/929193464.py\"\u001b[0;36m, line \u001b[0;32m2\u001b[0m\n\u001b[0;31m    List: the list is used for storing multiple data items in a single variable. [\"gourav\", 878778, True, 8+9j, \"etc\"]\u001b[0m\n\u001b[0m              ^\u001b[0m\n\u001b[0;31mSyntaxError\u001b[0m\u001b[0;31m:\u001b[0m invalid syntax\n"
     ]
    }
   ],
   "source": [
    "#Describe three different data types.\n",
    "List: the list is used for storing multiple data items in a single variable. [\"gourav\", 878778, True, 8+9j, \"etc\"]\n",
    "\n",
    "Integer: integer can store only numerical values. eg. 3,,5,3,53\n",
    "\n",
    "Float: float can store only floating values such as 554.44, 345.343, etc.\n"
   ]
  },
  {
   "cell_type": "code",
   "execution_count": 19,
   "id": "b73a5f39",
   "metadata": {},
   "outputs": [
    {
     "ename": "SyntaxError",
     "evalue": "invalid syntax (3804445003.py, line 2)",
     "output_type": "error",
     "traceback": [
      "\u001b[0;36m  File \u001b[0;32m\"/var/folders/hd/ydk6mn5157b0c67q32svhf8r0000gn/T/ipykernel_2449/3804445003.py\"\u001b[0;36m, line \u001b[0;32m2\u001b[0m\n\u001b[0;31m    An expression is a combination of operators and operands that is interpreted to produce some other value.\u001b[0m\n\u001b[0m       ^\u001b[0m\n\u001b[0;31mSyntaxError\u001b[0m\u001b[0;31m:\u001b[0m invalid syntax\n"
     ]
    }
   ],
   "source": [
    "#What is an expression made up of? \n",
    "An expression is a combination of operators and operands that is interpreted to produce some other value.\n",
    "#What do all expressions do?\n",
    "Expressions are representations of value. \n",
    "They are different from statement in the fact that statements do something while expressions are representation of value."
   ]
  },
  {
   "cell_type": "code",
   "execution_count": 21,
   "id": "65e7a823",
   "metadata": {},
   "outputs": [
    {
     "ename": "SyntaxError",
     "evalue": "invalid syntax (1439976921.py, line 2)",
     "output_type": "error",
     "traceback": [
      "\u001b[0;36m  File \u001b[0;32m\"/var/folders/hd/ydk6mn5157b0c67q32svhf8r0000gn/T/ipykernel_2449/1439976921.py\"\u001b[0;36m, line \u001b[0;32m2\u001b[0m\n\u001b[0;31m    Expression is made up of values, containers, and mathematical operators (operands) and the statement is just like a command that a python interpreter executes like print.\u001b[0m\n\u001b[0m                       ^\u001b[0m\n\u001b[0;31mSyntaxError\u001b[0m\u001b[0;31m:\u001b[0m invalid syntax\n"
     ]
    }
   ],
   "source": [
    "#This assignment statements, like spam = 10. What is the difference between an expression and a statement?\n",
    "Expression is made up of values, containers, and mathematical operators (operands) and the statement is just like a command that a python interpreter executes like print.\n",
    "\n"
   ]
  },
  {
   "cell_type": "code",
   "execution_count": 22,
   "id": "be0012be",
   "metadata": {},
   "outputs": [
    {
     "data": {
      "text/plain": [
       "23"
      ]
     },
     "execution_count": 22,
     "metadata": {},
     "output_type": "execute_result"
    }
   ],
   "source": [
    "#After running the following code, what does the variable bacon contain?\n",
    "bacon = 22\n",
    "bacon + 1"
   ]
  },
  {
   "cell_type": "code",
   "execution_count": 23,
   "id": "74c1272d",
   "metadata": {},
   "outputs": [
    {
     "data": {
      "text/plain": [
       "'spamspamspam'"
      ]
     },
     "execution_count": 23,
     "metadata": {},
     "output_type": "execute_result"
    }
   ],
   "source": [
    "#What should the values of the following two terms be?\n",
    "\"spam\"+\"spamspam\""
   ]
  },
  {
   "cell_type": "code",
   "execution_count": 24,
   "id": "190a65e1",
   "metadata": {},
   "outputs": [
    {
     "data": {
      "text/plain": [
       "'spamspamspam'"
      ]
     },
     "execution_count": 24,
     "metadata": {},
     "output_type": "execute_result"
    }
   ],
   "source": [
    "\"spam\"*3"
   ]
  },
  {
   "cell_type": "code",
   "execution_count": 27,
   "id": "8e6e04c8",
   "metadata": {},
   "outputs": [
    {
     "ename": "SyntaxError",
     "evalue": "invalid syntax (4089233450.py, line 2)",
     "output_type": "error",
     "traceback": [
      "\u001b[0;36m  File \u001b[0;32m\"/var/folders/hd/ydk6mn5157b0c67q32svhf8r0000gn/T/ipykernel_2449/4089233450.py\"\u001b[0;36m, line \u001b[0;32m2\u001b[0m\n\u001b[0;31m    we cannot take a intiger as a variable name. if we, we should begin it with, a string-like alphabet name then integer.\u001b[0m\n\u001b[0m       ^\u001b[0m\n\u001b[0;31mSyntaxError\u001b[0m\u001b[0;31m:\u001b[0m invalid syntax\n"
     ]
    }
   ],
   "source": [
    "#Why is eggs a valid variable name while 100 is invalid?\n",
    "we cannot take a intiger as a variable name. if we, we should begin it with, a string-like alphabet name then integer.\n",
    "eg. e100 or eggs100 is valid."
   ]
  },
  {
   "cell_type": "code",
   "execution_count": 29,
   "id": "8c246792",
   "metadata": {},
   "outputs": [
    {
     "data": {
      "text/plain": [
       "('', 0.0, 0)"
      ]
     },
     "execution_count": 29,
     "metadata": {},
     "output_type": "execute_result"
    }
   ],
   "source": [
    "#What three functions can be used to get the integer, floating-point number, or string version of a value?\n",
    "str(), float(), int()"
   ]
  },
  {
   "cell_type": "code",
   "execution_count": 34,
   "id": "7de8c245",
   "metadata": {},
   "outputs": [
    {
     "data": {
      "text/plain": [
       "'I have eaten99burritos'"
      ]
     },
     "execution_count": 34,
     "metadata": {},
     "output_type": "execute_result"
    }
   ],
   "source": [
    "#Why does this expression cause an error? How can you fix it?\n",
    "\"I have eaten\" + \"99\" + \"burritos\"\n",
    "#sol:  because 99 is an integer it cannot be concatenated with strings, if we have to concatenate it we need to do typecasting.\n",
    "    "
   ]
  }
 ],
 "metadata": {
  "kernelspec": {
   "display_name": "Python 3 (ipykernel)",
   "language": "python",
   "name": "python3"
  },
  "language_info": {
   "codemirror_mode": {
    "name": "ipython",
    "version": 3
   },
   "file_extension": ".py",
   "mimetype": "text/x-python",
   "name": "python",
   "nbconvert_exporter": "python",
   "pygments_lexer": "ipython3",
   "version": "3.9.7"
  }
 },
 "nbformat": 4,
 "nbformat_minor": 5
}
