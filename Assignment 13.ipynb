{
 "cells": [
  {
   "cell_type": "markdown",
   "id": "d1a3a95a",
   "metadata": {},
   "source": [
    "Q1 : What advantages do Excel spreadsheets have over CSV spreadsheets?\n",
    "\n",
    "Ans: Excel is more superior when compared with the CSV file format; thus, CSV consumes less amount of file size when the user is importing data; it is a much faster format compared to excel. CSV does not manipulate data and stores it as-is. Excel also allows the user the add-in feature."
   ]
  },
  {
   "cell_type": "markdown",
   "id": "baa18964",
   "metadata": {},
   "source": [
    "Q2 : What do you pass to csv.reader() and csv.writer() to create reader and writer objects?\n",
    "\n",
    "Ans: \n",
    "    \n",
    "    import csv\n",
    "    with open('csvexample.csv', newline='') as myFile:\n",
    "        reader = csv.reader(myFile)\n",
    "        for row in reader:\n",
    "            print(row)\n",
    "            \n",
    "    import csv\n",
    "    myData = [[1, 2, 3], ['Good Morning', 'Good Evening', 'Good Afternoon']]\n",
    "    myFile = open('csvexample3.csv', 'w')\n",
    "    with myFile:\n",
    "        writer = csv.writer(myFile)\n",
    "        writer.writerows(myData)"
   ]
  },
  {
   "cell_type": "markdown",
   "id": "23843191",
   "metadata": {},
   "source": [
    "Q3 : What modes do File objects for reader and writer objects need to be opened in?\n",
    "    \n",
    "    Ans: 'r'\tOpen a file for reading. (default)\n",
    "\n",
    "    'w'\tOpen a file for writing. Creates a new file if it does not exist or truncates the file if it exists."
   ]
  },
  {
   "cell_type": "markdown",
   "id": "e590996d",
   "metadata": {},
   "source": [
    "Q4 : What method takes a list argument and writes it to a CSV file?\n",
    "    \n",
    "Ans: A CSV file is a bounded text format which uses a comma to separate values. "
   ]
  },
  {
   "cell_type": "markdown",
   "id": "18df6d1a",
   "metadata": {},
   "source": [
    "Q5 : What do the keyword arguments delimiter and line terminator do?\n",
    "    \n",
    "Ans: The delimiter is the character that appears between cells on a row. By default, the delimiter for a CSV file is a comma. The line terminator is the character that comes at the end of a row. By default, the line terminator is a newline. You can change characters to different values by using the delimiter and lineterminator keyword arguments with csv.writer()."
   ]
  }
 ],
 "metadata": {
  "kernelspec": {
   "display_name": "Python 3 (ipykernel)",
   "language": "python",
   "name": "python3"
  },
  "language_info": {
   "codemirror_mode": {
    "name": "ipython",
    "version": 3
   },
   "file_extension": ".py",
   "mimetype": "text/x-python",
   "name": "python",
   "nbconvert_exporter": "python",
   "pygments_lexer": "ipython3",
   "version": "3.9.7"
  }
 },
 "nbformat": 4,
 "nbformat_minor": 5
}
