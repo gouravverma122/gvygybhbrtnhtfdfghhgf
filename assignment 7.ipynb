{
 "cells": [
  {
   "cell_type": "markdown",
   "id": "160aff2f",
   "metadata": {},
   "source": [
    "Q1 : What is the name of the feature responsible for generating Regex objects?\n",
    "\n",
    "Ans: The re.compile() function returns Regex objects."
   ]
  },
  {
   "cell_type": "markdown",
   "id": "c6f11bc4",
   "metadata": {},
   "source": [
    "Q2 : Why do raw strings often appear in Regex objects?\n",
    "\n",
    "Ans: Raw strings are used so that backslashes do not have to be escaped."
   ]
  },
  {
   "cell_type": "markdown",
   "id": "1145a6dd",
   "metadata": {},
   "source": [
    "Q3 : What is the return value of the search() method?\n",
    "\n",
    "Ans: The search() method returns Match objects."
   ]
  },
  {
   "cell_type": "markdown",
   "id": "54152834",
   "metadata": {},
   "source": [
    "Q4 : From a Match item, how do you get the actual strings that match the pattern?\n",
    "\n",
    "Ans: The group() method returns strings of the matched text."
   ]
  },
  {
   "cell_type": "markdown",
   "id": "9511a293",
   "metadata": {},
   "source": [
    "Q5 : In the regex which created from the r'(\\d\\d\\d)-(\\d\\d\\d-\\d\\d\\d\\d)', what does group zero cover?\n",
    "Group 2? Group 1?\n",
    "\n",
    "Ans: Group 0 is the entire match, group 1 covers the first set of parentheses, and group 2 covers the second set of parentheses."
   ]
  },
  {
   "cell_type": "markdown",
   "id": "37e1c55d",
   "metadata": {},
   "source": [
    "Q6 : In standard expression syntax, parentheses and intervals have distinct meanings. How can you tell\n",
    "a regex that you want it to fit real parentheses and periods?\n",
    "\n",
    "Ans: Periods and parentheses can be escaped with a backslash: \\., \\(, and \\)."
   ]
  },
  {
   "cell_type": "markdown",
   "id": "bb0cac25",
   "metadata": {},
   "source": [
    "Q7 : The findall() method returns a string list or a list of string tuples. What causes it to return one of\n",
    "the two options?\n",
    "\n",
    "Ans: If the regex has no groups, a list of strings is returned. If the regex has groups, a list of tuples of strings is returned."
   ]
  },
  {
   "cell_type": "markdown",
   "id": "931ad0ee",
   "metadata": {},
   "source": [
    "Q8 : In standard expressions, what does the | character mean?\n",
    "    \n",
    "Ans: The | character signifies matching \"either, or\" between two groups."
   ]
  },
  {
   "cell_type": "markdown",
   "id": "ad2767e5",
   "metadata": {},
   "source": [
    "Q10 : In regular expressions, what is the difference between the + and * characters?\n",
    "\n",
    "Ans:The + matches one or more. The * matches zero or more. "
   ]
  },
  {
   "cell_type": "markdown",
   "id": "6f7f69ed",
   "metadata": {},
   "source": [
    "Q11 : What is the difference between {4} and {4,5} in regular expression?\n",
    "\n",
    ": The {4} matches exactly four instances of the preceding group. The {4,5} matches between four and five instances."
   ]
  },
  {
   "cell_type": "markdown",
   "id": "3bf4ea51",
   "metadata": {},
   "source": [
    "Q12 : What do you mean by the \\d, \\w, and \\s shorthand character classes signify in regular\n",
    "expressions?\n",
    "\n",
    "Ans: The \\d, \\w, and \\s shorthand character classes match a single digit, word, or space character, respectively."
   ]
  },
  {
   "cell_type": "markdown",
   "id": "6ecde0dd",
   "metadata": {},
   "source": [
    "Q13 : What do means by \\D, \\W, and \\S shorthand character classes signify in regular expressions?\n",
    "    \n",
    "Ans: The \\D, \\W, and \\S shorthand character classes match a single character that is not a digit,not a word, and not a space character respectively.\n",
    "    "
   ]
  },
  {
   "cell_type": "markdown",
   "id": "129e2c98",
   "metadata": {},
   "source": [
    "Q14 : What is the difference between .*? and .* \n",
    "\n",
    "Ans: (.*?) matches any character (.) any number of times (*), as few times as possible to make the regex match (?). You'll get a match on any string, but you'll only capture a blank string because of the question mark. This feature is much more useful when you have a more complicated regex\n",
    "     (.*)The * in the regular expressions .* and * is referring to a count, not characters per say, more exactly it means 'zero or more'. Furthermore, the . means 'any single character'.\n",
    "\n"
   ]
  },
  {
   "cell_type": "markdown",
   "id": "c4853433",
   "metadata": {},
   "source": [
    "Q15: What is the syntax for matching both numbers and lowercase letters with a character class?\n",
    "    \n",
    "Ans: Either [0-9a-z] or [a-z0-9]"
   ]
  },
  {
   "cell_type": "markdown",
   "id": "4b8316da",
   "metadata": {},
   "source": [
    "Q16: What is the procedure for making a normal expression in regax case insensitive?\n",
    "\n",
    "Ans: Passing re.I or re.IGNORECASE as the second argument to re.compile() will make the matching case insensitive."
   ]
  },
  {
   "cell_type": "markdown",
   "id": "4760b1b8",
   "metadata": {},
   "source": [
    "Q17: What does the . character normally match? What does it match if re.DOTALL is passed as 2nd\n",
    "argument in re.compile()?\n",
    "\n",
    "Ans: The . character normally matches any character except the newline character. If re.DOTALL is passed as the second argument to re.compile(), then the dot will also match newline characters."
   ]
  },
  {
   "cell_type": "markdown",
   "id": "9e6882fb",
   "metadata": {},
   "source": [
    "Q18: If numReg = re.compile(r'\\d+'), what will numRegex.sub('X', '11 drummers, 10 pipers, five rings, 4\n",
    "hen') return?\n",
    "\n",
    "Ans: 'X drummers, X pipers, five rings, X hens'"
   ]
  },
  {
   "cell_type": "markdown",
   "id": "eab84379",
   "metadata": {},
   "source": [
    "Q19: What does passing re.VERBOSE as the 2nd argument to re.compile() allow to do?\n",
    "    \n",
    "Ans: The re.VERBOSE argument allows you to add whitespace and comments to the string passed to re.compile()."
   ]
  },
  {
   "cell_type": "markdown",
   "id": "86bed4d3",
   "metadata": {},
   "source": [
    "Q20: How would you write a regex that match a number with comma for every three digits? It must\n",
    "    match the given following:\n",
    "\n",
    "    '42'\n",
    "    '1,234'\n",
    "    '6,368,745'\n",
    "\n",
    "    but not the following:\n",
    "    '12,34,567' (which has only two digits between the commas)\n",
    "    '1234' (which lacks commas)\n",
    "\n",
    "Ans: re.compile(r'^\\d{1,3}(,\\d{3})*$') will create this regex, but other regex strings can produce a similar regular expression."
   ]
  },
  {
   "cell_type": "markdown",
   "id": "5f2d8577",
   "metadata": {},
   "source": [
    "Q21: How would you write a regex that matches the full name of someone whose last name is\n",
    "Watanabe? You can assume that the first name that comes before it will always be one word that\n",
    "begins with a capital letter. The regex must match the following:\n",
    "\n",
    "    'Haruto Watanabe'\n",
    "\n",
    "    'Alice Watanabe'\n",
    "\n",
    "    'RoboCop Watanabe,\n",
    "but not the following:\n",
    "\n",
    "    'haruto Watanabe' (where the first name is not capitalized)\n",
    "\n",
    "    'Mr. Watanabe' (where the preceding word has a nonletter character)\n",
    "\n",
    "    'Watanabe' (which has no first name)\n",
    "\n",
    "    'Haruto watanabe' (where Watanabe is not capitalized)\n",
    "    \n",
    "Ans: re.compile(r'[A-Z][a-z]*\\sWatanabe')"
   ]
  },
  {
   "cell_type": "markdown",
   "id": "a96f827d",
   "metadata": {},
   "source": [
    "Q22: How would you write a regex that matches a sentence where the first word is either Alice, Bob,\n",
    "or Carol; the second word is either eats, pets, or throws; the third word is apples, cats, or baseballs;\n",
    "and the sentence ends with a period? This regex should be case-insensitive. It must match the\n",
    "following:\n",
    "\n",
    "    'Alice eats apples.'\n",
    "    'Bob pets cats.'\n",
    "    'Carol throws baseballs.'\n",
    "    'Alice throws Apples.'\n",
    "    'BOB EATS CATS.'\n",
    "but not the following:\n",
    "\n",
    "    'RoboCop eats apples.'\n",
    "    'ALICE THROWS FOOTBALLS.'\n",
    "    'Carol eats 7 cats.'\n",
    "    \n",
    "Ans: re.compile(r'(Alice|Bob|Carol)\\s(eats|pets|throws)\\s(apples|cats|baseballs)\\.', re.IGNORECASE)"
   ]
  },
  {
   "cell_type": "code",
   "execution_count": null,
   "id": "6fee42c6",
   "metadata": {},
   "outputs": [],
   "source": []
  }
 ],
 "metadata": {
  "kernelspec": {
   "display_name": "Python 3 (ipykernel)",
   "language": "python",
   "name": "python3"
  },
  "language_info": {
   "codemirror_mode": {
    "name": "ipython",
    "version": 3
   },
   "file_extension": ".py",
   "mimetype": "text/x-python",
   "name": "python",
   "nbconvert_exporter": "python",
   "pygments_lexer": "ipython3",
   "version": "3.9.7"
  }
 },
 "nbformat": 4,
 "nbformat_minor": 5
}
