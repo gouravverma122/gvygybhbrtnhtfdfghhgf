{
 "cells": [
  {
   "cell_type": "code",
   "execution_count": 21,
   "id": "08fe7f46",
   "metadata": {},
   "outputs": [],
   "source": [
    "t= [1,2,(3),4,5,6]"
   ]
  },
  {
   "cell_type": "code",
   "execution_count": 5,
   "id": "10c99389",
   "metadata": {},
   "outputs": [
    {
     "data": {
      "text/plain": [
       "list"
      ]
     },
     "execution_count": 5,
     "metadata": {},
     "output_type": "execute_result"
    }
   ],
   "source": [
    "type(t)"
   ]
  },
  {
   "cell_type": "code",
   "execution_count": 20,
   "id": "de12f637",
   "metadata": {},
   "outputs": [],
   "source": [
    "t1=(\"gourav\",2,3.1,(3+8j),True,)"
   ]
  },
  {
   "cell_type": "code",
   "execution_count": 8,
   "id": "a1182205",
   "metadata": {},
   "outputs": [
    {
     "data": {
      "text/plain": [
       "list"
      ]
     },
     "execution_count": 8,
     "metadata": {},
     "output_type": "execute_result"
    }
   ],
   "source": [
    "type(t)"
   ]
  },
  {
   "cell_type": "code",
   "execution_count": 22,
   "id": "8541d27e",
   "metadata": {},
   "outputs": [
    {
     "data": {
      "text/plain": [
       "[1, 2, 3, 4, 5, 6]"
      ]
     },
     "execution_count": 22,
     "metadata": {},
     "output_type": "execute_result"
    }
   ],
   "source": [
    "t"
   ]
  },
  {
   "cell_type": "code",
   "execution_count": 16,
   "id": "89b9bf6b",
   "metadata": {},
   "outputs": [
    {
     "data": {
      "text/plain": [
       "tuple"
      ]
     },
     "execution_count": 16,
     "metadata": {},
     "output_type": "execute_result"
    }
   ],
   "source": [
    "type(t1)"
   ]
  },
  {
   "cell_type": "code",
   "execution_count": 23,
   "id": "c387ba1a",
   "metadata": {},
   "outputs": [
    {
     "data": {
      "text/plain": [
       "[1, 3, 5]"
      ]
     },
     "execution_count": 23,
     "metadata": {},
     "output_type": "execute_result"
    }
   ],
   "source": [
    "t[::2]"
   ]
  },
  {
   "cell_type": "code",
   "execution_count": 24,
   "id": "a346705e",
   "metadata": {},
   "outputs": [],
   "source": [
    "t[0]= \"dksu\""
   ]
  },
  {
   "cell_type": "code",
   "execution_count": 25,
   "id": "56f2d67f",
   "metadata": {},
   "outputs": [
    {
     "data": {
      "text/plain": [
       "['dksu', 2, 3, 4, 5, 6]"
      ]
     },
     "execution_count": 25,
     "metadata": {},
     "output_type": "execute_result"
    }
   ],
   "source": [
    "t"
   ]
  },
  {
   "cell_type": "code",
   "execution_count": 26,
   "id": "45436dc3",
   "metadata": {},
   "outputs": [
    {
     "ename": "TypeError",
     "evalue": "'tuple' object does not support item assignment",
     "output_type": "error",
     "traceback": [
      "\u001b[0;31m---------------------------------------------------------------------------\u001b[0m",
      "\u001b[0;31mTypeError\u001b[0m                                 Traceback (most recent call last)",
      "\u001b[0;32m/var/folders/hd/ydk6mn5157b0c67q32svhf8r0000gn/T/ipykernel_1280/879233841.py\u001b[0m in \u001b[0;36m<module>\u001b[0;34m\u001b[0m\n\u001b[0;32m----> 1\u001b[0;31m \u001b[0mt1\u001b[0m\u001b[0;34m[\u001b[0m\u001b[0;36m1\u001b[0m\u001b[0;34m]\u001b[0m\u001b[0;34m=\u001b[0m\u001b[0;36m9\u001b[0m\u001b[0;34m\u001b[0m\u001b[0;34m\u001b[0m\u001b[0m\n\u001b[0m",
      "\u001b[0;31mTypeError\u001b[0m: 'tuple' object does not support item assignment"
     ]
    }
   ],
   "source": [
    "t1[1]=9"
   ]
  },
  {
   "cell_type": "code",
   "execution_count": 27,
   "id": "8bc348d5",
   "metadata": {},
   "outputs": [],
   "source": [
    "t2=(1,3,45,6,76,745,4,74757)"
   ]
  },
  {
   "cell_type": "code",
   "execution_count": 28,
   "id": "fe3319ba",
   "metadata": {},
   "outputs": [
    {
     "data": {
      "text/plain": [
       "('gourav', 2, 3.1, (3+8j), True, 1, 3, 45, 6, 76, 745, 4, 74757)"
      ]
     },
     "execution_count": 28,
     "metadata": {},
     "output_type": "execute_result"
    }
   ],
   "source": [
    "t1+t2"
   ]
  },
  {
   "cell_type": "code",
   "execution_count": 33,
   "id": "632fc052",
   "metadata": {},
   "outputs": [
    {
     "data": {
      "text/plain": [
       "0"
      ]
     },
     "execution_count": 33,
     "metadata": {},
     "output_type": "execute_result"
    }
   ],
   "source": [
    "t1.index(\"gourav\")"
   ]
  },
  {
   "cell_type": "code",
   "execution_count": 34,
   "id": "8d2c965d",
   "metadata": {},
   "outputs": [
    {
     "data": {
      "text/plain": [
       "('gourav', 2, 3.1, (3+8j), True)"
      ]
     },
     "execution_count": 34,
     "metadata": {},
     "output_type": "execute_result"
    }
   ],
   "source": [
    "t1"
   ]
  },
  {
   "cell_type": "code",
   "execution_count": 35,
   "id": "5bfc4c9d",
   "metadata": {},
   "outputs": [
    {
     "data": {
      "text/plain": [
       "(1, 3, 45, 6, 76, 745, 4, 74757)"
      ]
     },
     "execution_count": 35,
     "metadata": {},
     "output_type": "execute_result"
    }
   ],
   "source": [
    "t2"
   ]
  },
  {
   "cell_type": "code",
   "execution_count": 36,
   "id": "e0120a08",
   "metadata": {},
   "outputs": [
    {
     "data": {
      "text/plain": [
       "list"
      ]
     },
     "execution_count": 36,
     "metadata": {},
     "output_type": "execute_result"
    }
   ],
   "source": [
    "type(t)"
   ]
  },
  {
   "cell_type": "code",
   "execution_count": 38,
   "id": "a9fc80e1",
   "metadata": {},
   "outputs": [
    {
     "data": {
      "text/plain": [
       "['dksu', 2, 3, 4, 5, 6]"
      ]
     },
     "execution_count": 38,
     "metadata": {},
     "output_type": "execute_result"
    }
   ],
   "source": [
    "t"
   ]
  },
  {
   "cell_type": "code",
   "execution_count": 41,
   "id": "031c5ec6",
   "metadata": {},
   "outputs": [],
   "source": [
    "t3 = ([\"dfd\",75],45,345,(5873458,437834),\"djfk\")"
   ]
  },
  {
   "cell_type": "code",
   "execution_count": 43,
   "id": "4ecbff10",
   "metadata": {},
   "outputs": [],
   "source": [
    "t3[0][1]=5"
   ]
  },
  {
   "cell_type": "code",
   "execution_count": 44,
   "id": "a920584e",
   "metadata": {},
   "outputs": [
    {
     "data": {
      "text/plain": [
       "(['dfd', 5], 45, 345, (5873458, 437834), 'djfk')"
      ]
     },
     "execution_count": 44,
     "metadata": {},
     "output_type": "execute_result"
    }
   ],
   "source": [
    "t3"
   ]
  },
  {
   "cell_type": "code",
   "execution_count": 45,
   "id": "08d750ce",
   "metadata": {},
   "outputs": [],
   "source": [
    "t3[0].append(\"jdf\")"
   ]
  },
  {
   "cell_type": "code",
   "execution_count": 46,
   "id": "d4a85ed3",
   "metadata": {},
   "outputs": [
    {
     "data": {
      "text/plain": [
       "(['dfd', 5, 'jdf'], 45, 345, (5873458, 437834), 'djfk')"
      ]
     },
     "execution_count": 46,
     "metadata": {},
     "output_type": "execute_result"
    }
   ],
   "source": [
    "t3"
   ]
  },
  {
   "cell_type": "code",
   "execution_count": 47,
   "id": "58e77f66",
   "metadata": {},
   "outputs": [
    {
     "data": {
      "text/plain": [
       "[['dfd', 5, 'jdf'], 45, 345, (5873458, 437834), 'djfk']"
      ]
     },
     "execution_count": 47,
     "metadata": {},
     "output_type": "execute_result"
    }
   ],
   "source": [
    "list(t3)"
   ]
  },
  {
   "cell_type": "code",
   "execution_count": 49,
   "id": "5ce644f1",
   "metadata": {},
   "outputs": [
    {
     "data": {
      "text/plain": [
       "(['dfd', 5, 'jdf'], 45, 345, (5873458, 437834), 'djfk')"
      ]
     },
     "execution_count": 49,
     "metadata": {},
     "output_type": "execute_result"
    }
   ],
   "source": [
    "tuple(t3)"
   ]
  },
  {
   "cell_type": "code",
   "execution_count": 54,
   "id": "81db6b32",
   "metadata": {},
   "outputs": [],
   "source": [
    "y=[45,45,34,5,345,34,5,35,34,66,6,3,6,6,56,54,5,5,5,5,5,5]"
   ]
  },
  {
   "cell_type": "code",
   "execution_count": 55,
   "id": "15d44516",
   "metadata": {},
   "outputs": [
    {
     "data": {
      "text/plain": [
       "{3, 5, 6, 34, 35, 45, 54, 56, 66, 345}"
      ]
     },
     "execution_count": 55,
     "metadata": {},
     "output_type": "execute_result"
    }
   ],
   "source": [
    "set(y)"
   ]
  },
  {
   "cell_type": "code",
   "execution_count": 56,
   "id": "63096474",
   "metadata": {},
   "outputs": [],
   "source": [
    "g={}"
   ]
  },
  {
   "cell_type": "code",
   "execution_count": 57,
   "id": "13121770",
   "metadata": {},
   "outputs": [
    {
     "data": {
      "text/plain": [
       "dict"
      ]
     },
     "execution_count": 57,
     "metadata": {},
     "output_type": "execute_result"
    }
   ],
   "source": [
    "type(g)"
   ]
  },
  {
   "cell_type": "code",
   "execution_count": 79,
   "id": "bd8d5fe3",
   "metadata": {},
   "outputs": [],
   "source": [
    "h={1,3,5}"
   ]
  },
  {
   "cell_type": "code",
   "execution_count": 59,
   "id": "1a88788f",
   "metadata": {},
   "outputs": [
    {
     "data": {
      "text/plain": [
       "set"
      ]
     },
     "execution_count": 59,
     "metadata": {},
     "output_type": "execute_result"
    }
   ],
   "source": [
    "type(h)"
   ]
  },
  {
   "cell_type": "code",
   "execution_count": 62,
   "id": "8fdf1d37",
   "metadata": {},
   "outputs": [
    {
     "data": {
      "text/plain": [
       "{2, 3, 4, 5, 6, 'dksu'}"
      ]
     },
     "execution_count": 62,
     "metadata": {},
     "output_type": "execute_result"
    }
   ],
   "source": [
    "set(t)"
   ]
  },
  {
   "cell_type": "code",
   "execution_count": 68,
   "id": "8242187f",
   "metadata": {},
   "outputs": [],
   "source": [
    "h.remove(3)"
   ]
  },
  {
   "cell_type": "code",
   "execution_count": 66,
   "id": "9026e5af",
   "metadata": {},
   "outputs": [],
   "source": [
    "u={2,3,4,4,343,35,5,(2,343434,34,34),34545,5665,(3,4,5,5,454,5,6)}"
   ]
  },
  {
   "cell_type": "code",
   "execution_count": 77,
   "id": "79024e1b",
   "metadata": {},
   "outputs": [
    {
     "data": {
      "text/plain": [
       "{(2, 343434, 34, 34),\n",
       " (3, 4, 5, 5, 454, 5, 6),\n",
       " 2,\n",
       " 3,\n",
       " 343,\n",
       " 34545,\n",
       " 35,\n",
       " 4,\n",
       " 5,\n",
       " 5665}"
      ]
     },
     "execution_count": 77,
     "metadata": {},
     "output_type": "execute_result"
    }
   ],
   "source": [
    "u"
   ]
  },
  {
   "cell_type": "code",
   "execution_count": 85,
   "id": "3981ac32",
   "metadata": {},
   "outputs": [
    {
     "data": {
      "text/plain": [
       "{5}"
      ]
     },
     "execution_count": 85,
     "metadata": {},
     "output_type": "execute_result"
    }
   ],
   "source": [
    "h"
   ]
  },
  {
   "cell_type": "code",
   "execution_count": 81,
   "id": "07dc0bec",
   "metadata": {},
   "outputs": [],
   "source": [
    "h.remove(1)"
   ]
  },
  {
   "cell_type": "code",
   "execution_count": 88,
   "id": "2e6a90cb",
   "metadata": {},
   "outputs": [],
   "source": [
    "h.discard(3)"
   ]
  },
  {
   "cell_type": "code",
   "execution_count": 89,
   "id": "f2b926ca",
   "metadata": {},
   "outputs": [
    {
     "data": {
      "text/plain": [
       "{5}"
      ]
     },
     "execution_count": 89,
     "metadata": {},
     "output_type": "execute_result"
    }
   ],
   "source": [
    "h"
   ]
  },
  {
   "cell_type": "code",
   "execution_count": 91,
   "id": "f06e4733",
   "metadata": {},
   "outputs": [
    {
     "data": {
      "text/plain": [
       "[5665,\n",
       " 2,\n",
       " 3,\n",
       " 35,\n",
       " 4,\n",
       " 5,\n",
       " 34545,\n",
       " (3, 4, 5, 5, 454, 5, 6),\n",
       " (2, 343434, 34, 34),\n",
       " 343]"
      ]
     },
     "execution_count": 91,
     "metadata": {},
     "output_type": "execute_result"
    }
   ],
   "source": [
    "list(u)"
   ]
  },
  {
   "cell_type": "code",
   "execution_count": 92,
   "id": "c7eee9b8",
   "metadata": {},
   "outputs": [
    {
     "data": {
      "text/plain": [
       "{(2, 343434, 34, 34),\n",
       " (3, 4, 5, 5, 454, 5, 6),\n",
       " 2,\n",
       " 3,\n",
       " 343,\n",
       " 34545,\n",
       " 35,\n",
       " 4,\n",
       " 5,\n",
       " 5665}"
      ]
     },
     "execution_count": 92,
     "metadata": {},
     "output_type": "execute_result"
    }
   ],
   "source": [
    "set(u)"
   ]
  },
  {
   "cell_type": "code",
   "execution_count": 93,
   "id": "03d16289",
   "metadata": {},
   "outputs": [],
   "source": [
    "i={\"i\",13,32,423,4324,32,4,True}"
   ]
  },
  {
   "cell_type": "code",
   "execution_count": 94,
   "id": "cde153e9",
   "metadata": {},
   "outputs": [
    {
     "data": {
      "text/plain": [
       "{13, 32, 4, 423, 4324, True, 'i'}"
      ]
     },
     "execution_count": 94,
     "metadata": {},
     "output_type": "execute_result"
    }
   ],
   "source": [
    "i"
   ]
  },
  {
   "cell_type": "code",
   "execution_count": 95,
   "id": "27a66912",
   "metadata": {},
   "outputs": [
    {
     "ename": "TypeError",
     "evalue": "'set' object is not callable",
     "output_type": "error",
     "traceback": [
      "\u001b[0;31m---------------------------------------------------------------------------\u001b[0m",
      "\u001b[0;31mTypeError\u001b[0m                                 Traceback (most recent call last)",
      "\u001b[0;32m/var/folders/hd/ydk6mn5157b0c67q32svhf8r0000gn/T/ipykernel_1280/3917370290.py\u001b[0m in \u001b[0;36m<module>\u001b[0;34m\u001b[0m\n\u001b[0;32m----> 1\u001b[0;31m \u001b[0mi\u001b[0m\u001b[0;34m(\u001b[0m\u001b[0;36m6\u001b[0m\u001b[0;34m)\u001b[0m\u001b[0;34m\u001b[0m\u001b[0;34m\u001b[0m\u001b[0m\n\u001b[0m",
      "\u001b[0;31mTypeError\u001b[0m: 'set' object is not callable"
     ]
    }
   ],
   "source": []
  },
  {
   "cell_type": "code",
   "execution_count": 96,
   "id": "a8dcbbff",
   "metadata": {},
   "outputs": [],
   "source": [
    "k={\"key\":34543,\"key5\":38457,54:[3,35,4,5,4]}"
   ]
  },
  {
   "cell_type": "code",
   "execution_count": 98,
   "id": "f9788571",
   "metadata": {},
   "outputs": [
    {
     "ename": "TypeError",
     "evalue": "'dict' object is not callable",
     "output_type": "error",
     "traceback": [
      "\u001b[0;31m---------------------------------------------------------------------------\u001b[0m",
      "\u001b[0;31mTypeError\u001b[0m                                 Traceback (most recent call last)",
      "\u001b[0;32m/var/folders/hd/ydk6mn5157b0c67q32svhf8r0000gn/T/ipykernel_1280/3905798241.py\u001b[0m in \u001b[0;36m<module>\u001b[0;34m\u001b[0m\n\u001b[0;32m----> 1\u001b[0;31m \u001b[0mk\u001b[0m\u001b[0;34m(\u001b[0m\u001b[0;34m\"key\"\u001b[0m\u001b[0;34m)\u001b[0m\u001b[0;34m\u001b[0m\u001b[0;34m\u001b[0m\u001b[0m\n\u001b[0m",
      "\u001b[0;31mTypeError\u001b[0m: 'dict' object is not callable"
     ]
    }
   ],
   "source": [
    "k(\"key\")"
   ]
  },
  {
   "cell_type": "code",
   "execution_count": 99,
   "id": "24c07156",
   "metadata": {},
   "outputs": [],
   "source": [
    "j={7:8,9:5}"
   ]
  },
  {
   "cell_type": "code",
   "execution_count": 100,
   "id": "22301c02",
   "metadata": {},
   "outputs": [
    {
     "data": {
      "text/plain": [
       "dict"
      ]
     },
     "execution_count": 100,
     "metadata": {},
     "output_type": "execute_result"
    }
   ],
   "source": [
    "type(j)"
   ]
  },
  {
   "cell_type": "code",
   "execution_count": 103,
   "id": "2c2bf394",
   "metadata": {},
   "outputs": [],
   "source": [
    "  b={\"name\":\"gourav\",\"mob_no.\":734853457347,\"email_id\": \"gourav.syz\", \"key\":[1,2,233],\"key2\":{1:2,2:3},\"key3\":(92,3,3,4,34),\"key7\":[2,3,3,434,]}"
   ]
  },
  {
   "cell_type": "code",
   "execution_count": 104,
   "id": "f468b74c",
   "metadata": {},
   "outputs": [
    {
     "data": {
      "text/plain": [
       "{'name': 'gourav',\n",
       " 'mob_no.': 734853457347,\n",
       " 'email_id': 'gourav.syz',\n",
       " 'key': [1, 2, 233],\n",
       " 'key2': {1: 2, 2: 3},\n",
       " 'key3': (92, 3, 3, 4, 34),\n",
       " 'key7': [2, 3, 3, 434]}"
      ]
     },
     "execution_count": 104,
     "metadata": {},
     "output_type": "execute_result"
    }
   ],
   "source": [
    "b"
   ]
  },
  {
   "cell_type": "code",
   "execution_count": 105,
   "id": "241d22fa",
   "metadata": {},
   "outputs": [
    {
     "ename": "NameError",
     "evalue": "name 'd' is not defined",
     "output_type": "error",
     "traceback": [
      "\u001b[0;31m---------------------------------------------------------------------------\u001b[0m",
      "\u001b[0;31mNameError\u001b[0m                                 Traceback (most recent call last)",
      "\u001b[0;32m/var/folders/hd/ydk6mn5157b0c67q32svhf8r0000gn/T/ipykernel_1280/1114597100.py\u001b[0m in \u001b[0;36m<module>\u001b[0;34m\u001b[0m\n\u001b[0;32m----> 1\u001b[0;31m \u001b[0mlist\u001b[0m\u001b[0;34m(\u001b[0m\u001b[0md\u001b[0m\u001b[0;34m)\u001b[0m\u001b[0;34m\u001b[0m\u001b[0;34m\u001b[0m\u001b[0m\n\u001b[0m",
      "\u001b[0;31mNameError\u001b[0m: name 'd' is not defined"
     ]
    }
   ],
   "source": [
    "list(d)"
   ]
  },
  {
   "cell_type": "code",
   "execution_count": 108,
   "id": "3da0615d",
   "metadata": {},
   "outputs": [
    {
     "data": {
      "text/plain": [
       "[2, 3, 3, 434]"
      ]
     },
     "execution_count": 108,
     "metadata": {},
     "output_type": "execute_result"
    }
   ],
   "source": [
    "b[\"key7\"]"
   ]
  },
  {
   "cell_type": "code",
   "execution_count": 110,
   "id": "f2acbef2",
   "metadata": {},
   "outputs": [
    {
     "data": {
      "text/plain": [
       "{1: 2, 2: 3}"
      ]
     },
     "execution_count": 110,
     "metadata": {},
     "output_type": "execute_result"
    }
   ],
   "source": [
    "b[\"key2\"]"
   ]
  },
  {
   "cell_type": "code",
   "execution_count": 111,
   "id": "8d08f0a8",
   "metadata": {},
   "outputs": [
    {
     "data": {
      "text/plain": [
       "dict_items([('name', 'gourav'), ('mob_no.', 734853457347), ('email_id', 'gourav.syz'), ('key', [1, 2, 233]), ('key2', {1: 2, 2: 3}), ('key3', (92, 3, 3, 4, 34)), ('key7', [2, 3, 3, 434])])"
      ]
     },
     "execution_count": 111,
     "metadata": {},
     "output_type": "execute_result"
    }
   ],
   "source": [
    "b.items()"
   ]
  },
  {
   "cell_type": "code",
   "execution_count": 117,
   "id": "36aad3bc",
   "metadata": {},
   "outputs": [
    {
     "data": {
      "text/plain": [
       "dict_keys(['name', 'mob_no.', 'email_id', 'key', 'key2', 'key3', 'key7'])"
      ]
     },
     "execution_count": 117,
     "metadata": {},
     "output_type": "execute_result"
    }
   ],
   "source": [
    "b.keys()"
   ]
  },
  {
   "cell_type": "code",
   "execution_count": 114,
   "id": "01e10168",
   "metadata": {},
   "outputs": [
    {
     "data": {
      "text/plain": [
       "dict_values(['gourav', 734853457347, 'gourav.syz', [1, 2, 233], {1: 2, 2: 3}, (92, 3, 3, 4, 34), [2, 3, 3, 434]])"
      ]
     },
     "execution_count": 114,
     "metadata": {},
     "output_type": "execute_result"
    }
   ],
   "source": [
    "b.values()"
   ]
  },
  {
   "cell_type": "code",
   "execution_count": 119,
   "id": "a57230fc",
   "metadata": {},
   "outputs": [
    {
     "data": {
      "text/plain": [
       "dict_keys"
      ]
     },
     "execution_count": 119,
     "metadata": {},
     "output_type": "execute_result"
    }
   ],
   "source": [
    "type(b.keys())"
   ]
  },
  {
   "cell_type": "code",
   "execution_count": 120,
   "id": "e9bf0849",
   "metadata": {},
   "outputs": [],
   "source": [
    "b[\"key0\"]=786565"
   ]
  },
  {
   "cell_type": "code",
   "execution_count": 121,
   "id": "13b677c5",
   "metadata": {},
   "outputs": [
    {
     "data": {
      "text/plain": [
       "{'name': 'gourav',\n",
       " 'mob_no.': 734853457347,\n",
       " 'email_id': 'gourav.syz',\n",
       " 'key': [1, 2, 233],\n",
       " 'key2': {1: 2, 2: 3},\n",
       " 'key3': (92, 3, 3, 4, 34),\n",
       " 'key7': [2, 3, 3, 434],\n",
       " 'key0': 786565}"
      ]
     },
     "execution_count": 121,
     "metadata": {},
     "output_type": "execute_result"
    }
   ],
   "source": [
    "b"
   ]
  },
  {
   "cell_type": "code",
   "execution_count": 122,
   "id": "f4dbad6e",
   "metadata": {},
   "outputs": [],
   "source": [
    "b[\"key2\"]=6767"
   ]
  },
  {
   "cell_type": "code",
   "execution_count": 123,
   "id": "b47c6b7f",
   "metadata": {},
   "outputs": [
    {
     "data": {
      "text/plain": [
       "{'name': 'gourav',\n",
       " 'mob_no.': 734853457347,\n",
       " 'email_id': 'gourav.syz',\n",
       " 'key': [1, 2, 233],\n",
       " 'key2': 6767,\n",
       " 'key3': (92, 3, 3, 4, 34),\n",
       " 'key7': [2, 3, 3, 434],\n",
       " 'key0': 786565}"
      ]
     },
     "execution_count": 123,
     "metadata": {},
     "output_type": "execute_result"
    }
   ],
   "source": [
    "b"
   ]
  },
  {
   "cell_type": "code",
   "execution_count": 126,
   "id": "f4df6be9",
   "metadata": {},
   "outputs": [],
   "source": [
    "o={6566:6667}"
   ]
  },
  {
   "cell_type": "code",
   "execution_count": 127,
   "id": "5829cfde",
   "metadata": {},
   "outputs": [
    {
     "data": {
      "text/plain": [
       "{6566: 6667}"
      ]
     },
     "execution_count": 127,
     "metadata": {},
     "output_type": "execute_result"
    }
   ],
   "source": [
    "o"
   ]
  },
  {
   "cell_type": "code",
   "execution_count": 128,
   "id": "d0532855",
   "metadata": {},
   "outputs": [
    {
     "data": {
      "text/plain": [
       "dict"
      ]
     },
     "execution_count": 128,
     "metadata": {},
     "output_type": "execute_result"
    }
   ],
   "source": [
    "type(o)"
   ]
  },
  {
   "cell_type": "code",
   "execution_count": 130,
   "id": "81c7b31e",
   "metadata": {},
   "outputs": [],
   "source": [
    "b[(\"fggddgh\",\"ghgh\",\"gvgf\")]=54464"
   ]
  },
  {
   "cell_type": "code",
   "execution_count": 131,
   "id": "eb43cfc9",
   "metadata": {},
   "outputs": [
    {
     "data": {
      "text/plain": [
       "{'name': 'gourav',\n",
       " 'mob_no.': 734853457347,\n",
       " 'email_id': 'gourav.syz',\n",
       " 'key': [1, 2, 233],\n",
       " 'key2': 6767,\n",
       " 'key3': (92, 3, 3, 4, 34),\n",
       " 'key7': [2, 3, 3, 434],\n",
       " 'key0': 786565,\n",
       " ('fggddgh', 'ghgh', 'gvgf'): 54464}"
      ]
     },
     "execution_count": 131,
     "metadata": {},
     "output_type": "execute_result"
    }
   ],
   "source": [
    "b"
   ]
  },
  {
   "cell_type": "code",
   "execution_count": 133,
   "id": "983e6493",
   "metadata": {},
   "outputs": [
    {
     "data": {
      "text/plain": [
       "'gourav'"
      ]
     },
     "execution_count": 133,
     "metadata": {},
     "output_type": "execute_result"
    }
   ],
   "source": [
    "b.get(\"name\")"
   ]
  },
  {
   "cell_type": "code",
   "execution_count": 134,
   "id": "af1e95f9",
   "metadata": {},
   "outputs": [],
   "source": [
    "b.update(o)"
   ]
  },
  {
   "cell_type": "code",
   "execution_count": 135,
   "id": "a5a64d78",
   "metadata": {},
   "outputs": [
    {
     "data": {
      "text/plain": [
       "{'name': 'gourav',\n",
       " 'mob_no.': 734853457347,\n",
       " 'email_id': 'gourav.syz',\n",
       " 'key': [1, 2, 233],\n",
       " 'key2': 6767,\n",
       " 'key3': (92, 3, 3, 4, 34),\n",
       " 'key7': [2, 3, 3, 434],\n",
       " 'key0': 786565,\n",
       " ('fggddgh', 'ghgh', 'gvgf'): 54464,\n",
       " 6566: 6667}"
      ]
     },
     "execution_count": 135,
     "metadata": {},
     "output_type": "execute_result"
    }
   ],
   "source": [
    "b"
   ]
  },
  {
   "cell_type": "code",
   "execution_count": 136,
   "id": "3dc1c67d",
   "metadata": {},
   "outputs": [
    {
     "data": {
      "text/plain": [
       "{6566: 6667}"
      ]
     },
     "execution_count": 136,
     "metadata": {},
     "output_type": "execute_result"
    }
   ],
   "source": [
    "o"
   ]
  },
  {
   "cell_type": "code",
   "execution_count": 139,
   "id": "b521ec4e",
   "metadata": {},
   "outputs": [],
   "source": [
    "keys= (\"dkfkj\",\"jkdfj\",\"jdjh\")\n",
    "value=(\"gourav\")"
   ]
  },
  {
   "cell_type": "code",
   "execution_count": 146,
   "id": "649df320",
   "metadata": {},
   "outputs": [],
   "source": [
    "p=o.fromkeys(keys,value)"
   ]
  },
  {
   "cell_type": "code",
   "execution_count": 142,
   "id": "5c803eed",
   "metadata": {},
   "outputs": [
    {
     "data": {
      "text/plain": [
       "{'dkfkj': 'gourav', 'jkdfj': 'gourav', 'jdjh': 'gourav'}"
      ]
     },
     "execution_count": 142,
     "metadata": {},
     "output_type": "execute_result"
    }
   ],
   "source": [
    "p"
   ]
  },
  {
   "cell_type": "code",
   "execution_count": 143,
   "id": "c77e9490",
   "metadata": {},
   "outputs": [
    {
     "data": {
      "text/plain": [
       "{6566: 6667}"
      ]
     },
     "execution_count": 143,
     "metadata": {},
     "output_type": "execute_result"
    }
   ],
   "source": [
    "o"
   ]
  },
  {
   "cell_type": "code",
   "execution_count": 147,
   "id": "7b38fb95",
   "metadata": {},
   "outputs": [],
   "source": [
    "t=(0,1,True)"
   ]
  },
  {
   "cell_type": "code",
   "execution_count": 149,
   "id": "cd12b757",
   "metadata": {},
   "outputs": [
    {
     "data": {
      "text/plain": [
       "(0, 1, True)"
      ]
     },
     "execution_count": 149,
     "metadata": {},
     "output_type": "execute_result"
    }
   ],
   "source": [
    "t"
   ]
  },
  {
   "cell_type": "code",
   "execution_count": 150,
   "id": "3f0c87c5",
   "metadata": {},
   "outputs": [
    {
     "data": {
      "text/plain": [
       "2"
      ]
     },
     "execution_count": 150,
     "metadata": {},
     "output_type": "execute_result"
    }
   ],
   "source": [
    "t.count(1)"
   ]
  },
  {
   "cell_type": "code",
   "execution_count": 151,
   "id": "5deccf9b",
   "metadata": {
    "collapsed": true
   },
   "outputs": [
    {
     "data": {
      "text/plain": [
       "0"
      ]
     },
     "execution_count": 151,
     "metadata": {},
     "output_type": "execute_result"
    }
   ],
   "source": [
    "t.count(2)"
   ]
  },
  {
   "cell_type": "code",
   "execution_count": 152,
   "id": "31f9d717",
   "metadata": {},
   "outputs": [
    {
     "data": {
      "text/plain": [
       "1"
      ]
     },
     "execution_count": 152,
     "metadata": {},
     "output_type": "execute_result"
    }
   ],
   "source": [
    "t.count(0)"
   ]
  },
  {
   "cell_type": "code",
   "execution_count": 153,
   "id": "90360862",
   "metadata": {},
   "outputs": [
    {
     "data": {
      "text/plain": [
       "(['dfd', 5, 'jdf'], 45, 345, (5873458, 437834), 'djfk')"
      ]
     },
     "execution_count": 153,
     "metadata": {},
     "output_type": "execute_result"
    }
   ],
   "source": [
    "t3"
   ]
  },
  {
   "cell_type": "code",
   "execution_count": 159,
   "id": "ca5718fc",
   "metadata": {},
   "outputs": [
    {
     "data": {
      "text/plain": [
       "1"
      ]
     },
     "execution_count": 159,
     "metadata": {},
     "output_type": "execute_result"
    }
   ],
   "source": [
    "t3.count(45)"
   ]
  },
  {
   "cell_type": "code",
   "execution_count": null,
   "id": "8725947f",
   "metadata": {},
   "outputs": [],
   "source": []
  }
 ],
 "metadata": {
  "kernelspec": {
   "display_name": "Python 3 (ipykernel)",
   "language": "python",
   "name": "python3"
  },
  "language_info": {
   "codemirror_mode": {
    "name": "ipython",
    "version": 3
   },
   "file_extension": ".py",
   "mimetype": "text/x-python",
   "name": "python",
   "nbconvert_exporter": "python",
   "pygments_lexer": "ipython3",
   "version": "3.9.7"
  }
 },
 "nbformat": 4,
 "nbformat_minor": 5
}
