{
 "cells": [
  {
   "cell_type": "code",
   "execution_count": 3,
   "id": "1a08d8cc",
   "metadata": {},
   "outputs": [
    {
     "name": "stdout",
     "output_type": "stream",
     "text": [
      "True\n"
     ]
    }
   ],
   "source": [
    "#1.What are the two values of the Boolean data type? How do you write them?\n",
    "\"There are two Boolean values: True and False\"\n",
    "a=0\n",
    "if a==0:\n",
    "    print (True)\n",
    "else:\n",
    "    print(False)"
   ]
  },
  {
   "cell_type": "code",
   "execution_count": 8,
   "id": "17d40ba4",
   "metadata": {},
   "outputs": [
    {
     "data": {
      "text/plain": [
       "'The three basic boolean operators are: AND, OR, and NOT'"
      ]
     },
     "execution_count": 8,
     "metadata": {},
     "output_type": "execute_result"
    }
   ],
   "source": [
    "#What are the three different types of Boolean operators?\n",
    "\"The three basic boolean operators are: AND, OR, and NOT\""
   ]
  },
  {
   "cell_type": "code",
   "execution_count": 15,
   "id": "b1576044",
   "metadata": {},
   "outputs": [
    {
     "ename": "SyntaxError",
     "evalue": "invalid syntax (2945055051.py, line 3)",
     "output_type": "error",
     "traceback": [
      "\u001b[0;36m  File \u001b[0;32m\"/var/folders/hd/ydk6mn5157b0c67q32svhf8r0000gn/T/ipykernel_969/2945055051.py\"\u001b[0;36m, line \u001b[0;32m3\u001b[0m\n\u001b[0;31m    A   \tnot A\u001b[0m\n\u001b[0m        \t    ^\u001b[0m\n\u001b[0;31mSyntaxError\u001b[0m\u001b[0;31m:\u001b[0m invalid syntax\n"
     ]
    }
   ],
   "source": [
    "#Make a list of each Boolean operator's truth tables (i.e. every possible combination of Boolean values for the operator and what it evaluate .\n",
    "\"not operator\"\n",
    "A   \tnot A\n",
    "True\t False\n",
    "False\t True\n",
    "\n",
    "\"and operator\"\n",
    "\n",
    "A    \t B     \tA and B\n",
    "True\tTrue\tTrue\n",
    "False\tTrue\tFalse\n",
    "True\tFalse\tFalse\n",
    "False\tFalse\tFalse\n",
    "\n",
    "\"or operator\"\n",
    "\n",
    "\n",
    " A  \t B   \tA or B\n",
    "True\tTrue\tTrue\n",
    "False\tTrue\tTrue\n",
    "True\tFalse\tTrue\n",
    "False\tFalse\tFalse\n"
   ]
  },
  {
   "cell_type": "code",
   "execution_count": 16,
   "id": "3f7af9a5",
   "metadata": {},
   "outputs": [
    {
     "data": {
      "text/plain": [
       "False"
      ]
     },
     "execution_count": 16,
     "metadata": {},
     "output_type": "execute_result"
    }
   ],
   "source": [
    "#What are the values of the following expressions?\n",
    "(5 > 4) and (3 == 5)"
   ]
  },
  {
   "cell_type": "code",
   "execution_count": 17,
   "id": "bc9dc0b1",
   "metadata": {},
   "outputs": [
    {
     "data": {
      "text/plain": [
       "False"
      ]
     },
     "execution_count": 17,
     "metadata": {},
     "output_type": "execute_result"
    }
   ],
   "source": [
    "not (5 > 4)"
   ]
  },
  {
   "cell_type": "code",
   "execution_count": 18,
   "id": "1e0af6dc",
   "metadata": {},
   "outputs": [
    {
     "data": {
      "text/plain": [
       "True"
      ]
     },
     "execution_count": 18,
     "metadata": {},
     "output_type": "execute_result"
    }
   ],
   "source": [
    "(5 > 4) or (3 == 5)"
   ]
  },
  {
   "cell_type": "code",
   "execution_count": 19,
   "id": "deeecb2a",
   "metadata": {},
   "outputs": [
    {
     "data": {
      "text/plain": [
       "False"
      ]
     },
     "execution_count": 19,
     "metadata": {},
     "output_type": "execute_result"
    }
   ],
   "source": [
    "not ((5 > 4) or (3 == 5))"
   ]
  },
  {
   "cell_type": "code",
   "execution_count": 20,
   "id": "4a020f3b",
   "metadata": {},
   "outputs": [
    {
     "data": {
      "text/plain": [
       "False"
      ]
     },
     "execution_count": 20,
     "metadata": {},
     "output_type": "execute_result"
    }
   ],
   "source": [
    "(True and True) and (True == False)"
   ]
  },
  {
   "cell_type": "code",
   "execution_count": 21,
   "id": "1a4aba18",
   "metadata": {},
   "outputs": [
    {
     "data": {
      "text/plain": [
       "True"
      ]
     },
     "execution_count": 21,
     "metadata": {},
     "output_type": "execute_result"
    }
   ],
   "source": [
    "(not False) or (not True)"
   ]
  },
  {
   "cell_type": "code",
   "execution_count": 11,
   "id": "ce781e55",
   "metadata": {},
   "outputs": [
    {
     "ename": "SyntaxError",
     "evalue": "invalid syntax (4208050452.py, line 2)",
     "output_type": "error",
     "traceback": [
      "\u001b[0;36m  File \u001b[0;32m\"/var/folders/hd/ydk6mn5157b0c67q32svhf8r0000gn/T/ipykernel_1486/4208050452.py\"\u001b[0;36m, line \u001b[0;32m2\u001b[0m\n\u001b[0;31m    {==: \"equal \", >=: \"greater or equal \", <=:\"less or equal\" !=: \"not equal\", >:\"greater\" ,<:\"less\"}\u001b[0m\n\u001b[0m     ^\u001b[0m\n\u001b[0;31mSyntaxError\u001b[0m\u001b[0;31m:\u001b[0m invalid syntax\n"
     ]
    }
   ],
   "source": [
    "#What are the six comparison operators?\n",
    "{==: \"equal \", >=: \"greater or equal \", <=:\"less or equal\" !=: \"not equal\", >:\"greater\" ,<:\"less\"}"
   ]
  },
  {
   "cell_type": "code",
   "execution_count": 33,
   "id": "f0772abd",
   "metadata": {},
   "outputs": [
    {
     "name": "stdout",
     "output_type": "stream",
     "text": [
      "10 20\n"
     ]
    }
   ],
   "source": [
    "#How do you tell the difference between the equal to and assignment operators?Describe a condition and when you would use one.\n",
    "\"The “=” is an assignment operator is used to assign the value on the right to the variable on the left.\"\n",
    "a=10\n",
    "b= 20\n",
    "print(a , b)"
   ]
  },
  {
   "cell_type": "code",
   "execution_count": 34,
   "id": "aa8a6cc3",
   "metadata": {},
   "outputs": [
    {
     "data": {
      "text/plain": [
       "False"
      ]
     },
     "execution_count": 34,
     "metadata": {},
     "output_type": "execute_result"
    }
   ],
   "source": [
    "\"The '==' operator checks whether the two given operands are equal or not. If so, it returns true. Otherwise it returns false.\"\n",
    "a==b"
   ]
  },
  {
   "cell_type": "code",
   "execution_count": 40,
   "id": "6b4d229c",
   "metadata": {},
   "outputs": [
    {
     "name": "stdout",
     "output_type": "stream",
     "text": [
      "ham\n",
      "spam\n",
      "spam\n"
     ]
    }
   ],
   "source": [
    "#Identify the three blocks in this code:\n",
    "spam = 0\n",
    "if spam == 10:\n",
    "    print(\"eggs\")\n",
    "if spam > 5:\n",
    "    print(\"bacon\")\n",
    "else:\n",
    "    print(\"ham\")\n",
    "    print(\"spam\")\n",
    "    print(\"spam\")\n",
    "    "
   ]
  },
  {
   "cell_type": "code",
   "execution_count": 44,
   "id": "1d25bc97",
   "metadata": {},
   "outputs": [],
   "source": [
    "#\"the three blocks are everything inside the if statement and the lines print('eggs'), print('bacon') and print('ham').\"\n",
    "##block 1\n",
    "    #\"if spam == 10: print(\"eggs\")\"\n",
    "##block 2\n",
    "     #\"if spam > 5: print(\"bacon\")\"\n",
    "##block 3\n",
    "    #\"else: print(\"ham\") print(\"spam\") print(\"spam\")\"\n"
   ]
  },
  {
   "cell_type": "code",
   "execution_count": 1,
   "id": "a121a848",
   "metadata": {},
   "outputs": [
    {
     "name": "stdout",
     "output_type": "stream",
     "text": [
      "3\n",
      "greetings\n"
     ]
    }
   ],
   "source": [
    "#Write code that prints Hello if 1 is stored in spam, prints Howdy if 2 is stored in spam, and prints Greetings! if anything else is stored in spam.\n",
    "spam= input()\n",
    "if spam==1:\n",
    "    print(\"Hello\")\n",
    "elif spam==2:\n",
    "    print(\"howdy\")\n",
    "else:\n",
    "    print(\"greetings\")"
   ]
  },
  {
   "cell_type": "code",
   "execution_count": 47,
   "id": "3c42486a",
   "metadata": {},
   "outputs": [
    {
     "data": {
      "text/plain": [
       "'by break function'"
      ]
     },
     "execution_count": 47,
     "metadata": {},
     "output_type": "execute_result"
    }
   ],
   "source": [
    "#If your programme is stuck in an endless loop, what keys you’ll press?\n",
    "\"by break function\""
   ]
  },
  {
   "cell_type": "code",
   "execution_count": 50,
   "id": "ca95a012",
   "metadata": {},
   "outputs": [
    {
     "data": {
      "text/plain": [
       "\"The main difference between break and continue is that break is used for immediate termination of loop.On the other hand, 'continue' terminate the current iteration and resumes the control to the next iteration of the loop\""
      ]
     },
     "execution_count": 50,
     "metadata": {},
     "output_type": "execute_result"
    }
   ],
   "source": [
    "#How can you tell the difference between break and continue?\n",
    "\"The main difference between break and continue is that break is used for immediate termination of loop.On the other hand, 'continue' terminate the current iteration and resumes the control to the next iteration of the loop\""
   ]
  },
  {
   "cell_type": "code",
   "execution_count": 54,
   "id": "51e8040c",
   "metadata": {},
   "outputs": [
    {
     "data": {
      "text/plain": [
       "'They all do the same thing. The range(10) call ranges from 0 up to (but not including) 10, range(0,10) explicitly tells the loop to start at 0 , and range (0,10,1) explicitly tells the loop to increase the variable by 1 on each iteration.'"
      ]
     },
     "execution_count": 54,
     "metadata": {},
     "output_type": "execute_result"
    }
   ],
   "source": [
    "#In a for loop, what is the difference between range(10), range(0, 10), and range(0, 10, 1)?\n",
    "\"They all do the same thing. The range(10) call ranges from 0 up to (but not including) 10, range(0,10) explicitly tells the loop to start at 0 , and range (0,10,1) explicitly tells the loop to increase the variable by 1 on each iteration.\""
   ]
  },
  {
   "cell_type": "code",
   "execution_count": 7,
   "id": "cbe850ee",
   "metadata": {},
   "outputs": [
    {
     "name": "stdout",
     "output_type": "stream",
     "text": [
      "1,2,3,4,5,6,7,8,9,10,"
     ]
    }
   ],
   "source": [
    "#Write a short program that prints the numbers 1 to 10 using a for loop. \n",
    "for i in range (1,11):\n",
    "    print(i, end=\",\")"
   ]
  },
  {
   "cell_type": "code",
   "execution_count": 5,
   "id": "9a0aaa32",
   "metadata": {},
   "outputs": [
    {
     "name": "stdout",
     "output_type": "stream",
     "text": [
      "1,2,3,4,5,6,7,8,9,10,"
     ]
    }
   ],
   "source": [
    "#Then write an equivalent program that prints the numbers 1 to 10 using a while loop.\n",
    "i = 1\n",
    "while i <= 10:\n",
    "    print(i, end=\",\")\n",
    "    i = i + 1"
   ]
  },
  {
   "cell_type": "code",
   "execution_count": 2,
   "id": "fb81f5d9",
   "metadata": {},
   "outputs": [
    {
     "data": {
      "text/plain": [
       "'This function can be called with spam.bacon().'"
      ]
     },
     "execution_count": 2,
     "metadata": {},
     "output_type": "execute_result"
    }
   ],
   "source": [
    "#If you had a function named bacon() inside a module named spam, how would you call it after importing spam?\n",
    "\"This function can be called with spam.bacon().\""
   ]
  },
  {
   "cell_type": "code",
   "execution_count": null,
   "id": "30378e62",
   "metadata": {},
   "outputs": [],
   "source": []
  }
 ],
 "metadata": {
  "kernelspec": {
   "display_name": "Python 3 (ipykernel)",
   "language": "python",
   "name": "python3"
  },
  "language_info": {
   "codemirror_mode": {
    "name": "ipython",
    "version": 3
   },
   "file_extension": ".py",
   "mimetype": "text/x-python",
   "name": "python",
   "nbconvert_exporter": "python",
   "pygments_lexer": "ipython3",
   "version": "3.9.7"
  }
 },
 "nbformat": 4,
 "nbformat_minor": 5
}
