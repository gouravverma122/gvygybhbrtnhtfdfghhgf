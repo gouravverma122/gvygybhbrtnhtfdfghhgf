{
 "cells": [
  {
   "cell_type": "markdown",
   "id": "46d1ffdf",
   "metadata": {},
   "source": [
    "Q1 : To what does a relative path refer?\n",
    "\n",
    "Ans: The relative path is the path to some file with respect to your current working directory (PWD). For example: Absolute path: C:/users/admin/docs/stuff.txt. If my PWD is C:/users/admin/ , then the relative path to stuff.txt would be: docs/stuff.txt. Note, PWD + relative path = absolute path."
   ]
  },
  {
   "cell_type": "markdown",
   "id": "a4fe6cb6",
   "metadata": {},
   "source": [
    "Q2 : What does an absolute path start with your operating system?\n",
    "\n",
    "Ans: Absolute path names always begin with the slash (/) symbol. Traces the path from the current directory through its parent or its subdirectories and files. An absolute path name represents the complete name of a directory or file from the /(root) directory downward."
   ]
  },
  {
   "cell_type": "markdown",
   "id": "c995e5e5",
   "metadata": {},
   "source": [
    "Q3 : What do the functions os.getcwd() and os.chdir() do?\n",
    "\n",
    "Ans: getcwd() : CWD stands for Current Working Directory. This function allows you to see what your current working directory is.\n",
    "       \n",
    "chdir() method in Python used to change the current working directory to specified path. It takes only a single argument as new directory path"
   ]
  },
  {
   "cell_type": "markdown",
   "id": "4ddb79e6",
   "metadata": {},
   "source": [
    "Q4 : What are the . and .. folders?\n",
    "\n",
    "Ans: The . is the current directory, while .. signifies the parent directory. It makes things quicker at the command line as well so you don't need to type out full paths.\n"
   ]
  },
  {
   "cell_type": "markdown",
   "id": "03eba94a",
   "metadata": {},
   "source": [
    "Q5 : In C:\\bacon\\eggs\\spam.txt, which part is the dir name, and which part is the base name?\n",
    "\n",
    "Ans: C:\\bacon\\eggs is the dir name, while spam.txt is the base name.   "
   ]
  },
  {
   "cell_type": "markdown",
   "id": "b8b6ecb7",
   "metadata": {},
   "source": [
    "Q6 : What are the three “mode” arguments that can be passed to the open() function?\n",
    "\n",
    "Ans: r: Opens the file in read-only mode. Starts reading from the beginning of the file and is the default mode for the open() function.\n",
    "   \n",
    "   w: Opens in write-only mode. The pointer is placed at the beginning of the file and this will overwrite any existing file with the same name. It will create a new file if one with the same name doesn't exist.\n",
    "   \n",
    "   r+: Opens a file for reading and writing, placing the pointer at the beginning of the file."
   ]
  },
  {
   "cell_type": "markdown",
   "id": "ed3a0de2",
   "metadata": {},
   "source": [
    "Q7 : What happens if an existing file is opened in write mode?\n",
    "\n",
    "Ans: If a file with the same name already exists, its contents are discarded and the file is treated as a new empty file."
   ]
  },
  {
   "cell_type": "markdown",
   "id": "357ad673",
   "metadata": {},
   "source": [
    "Q8 : How do you tell the difference between read() and readlines()?\n",
    "    \n",
    "Ans: read() reads all of the file's contents into a string, \n",
    "    \n",
    "    readlines() reads just a single line from the file"
   ]
  },
  {
   "cell_type": "markdown",
   "id": "8a2c59e2",
   "metadata": {},
   "source": [
    "Q9: What data structure does a shelf value resemble?\n",
    "\n",
    "Ans: A shelf value resembles a dictionary value; it has keys and values, along with keys() and values() methods that work similarly to the dictionary methods of the same names."
   ]
  }
 ],
 "metadata": {
  "kernelspec": {
   "display_name": "Python 3 (ipykernel)",
   "language": "python",
   "name": "python3"
  },
  "language_info": {
   "codemirror_mode": {
    "name": "ipython",
    "version": 3
   },
   "file_extension": ".py",
   "mimetype": "text/x-python",
   "name": "python",
   "nbconvert_exporter": "python",
   "pygments_lexer": "ipython3",
   "version": "3.9.7"
  }
 },
 "nbformat": 4,
 "nbformat_minor": 5
}
