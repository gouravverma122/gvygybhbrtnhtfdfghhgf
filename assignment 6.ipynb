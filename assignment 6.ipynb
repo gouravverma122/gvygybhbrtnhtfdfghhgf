{
 "cells": [
  {
   "cell_type": "code",
   "execution_count": 1,
   "id": "465587f3",
   "metadata": {},
   "outputs": [
    {
     "data": {
      "text/plain": [
       "'In Python strings, the backslash \"\" is a special character, also called the \"escape\" character. It is used in representing certain whitespace characters: \"\\t\" is a tab, \"\\n\" is a newline, and \"\\r\" is a carriage return. Conversely, prefixing a special character with \"\" turns it into an ordinary character.'"
      ]
     },
     "execution_count": 1,
     "metadata": {},
     "output_type": "execute_result"
    }
   ],
   "source": [
    "#What are escape characters, and how do you use them?\n",
    "\"\"\"In Python strings, the backslash \"\\\" is a special character, also called the \"escape\" character. It is used in representing certain whitespace characters: \"\\t\" is a tab, \"\\n\" is a newline, and \"\\r\" is a carriage return. Conversely, prefixing a special character with \"\\\" turns it into an ordinary character.\"\"\""
   ]
  },
  {
   "cell_type": "code",
   "execution_count": 4,
   "id": "826d48f4",
   "metadata": {},
   "outputs": [
    {
     "data": {
      "text/plain": [
       "'n= new line and t= tab'"
      ]
     },
     "execution_count": 4,
     "metadata": {},
     "output_type": "execute_result"
    }
   ],
   "source": [
    "#What do the escape characters n and t stand for?\n",
    "\"\"\"n= new line and t= tab\"\"\""
   ]
  },
  {
   "cell_type": "code",
   "execution_count": 39,
   "id": "760f7cb7",
   "metadata": {},
   "outputs": [
    {
     "data": {
      "text/plain": [
       "'The \\\\ escape character will represent a backslash character.'"
      ]
     },
     "execution_count": 39,
     "metadata": {},
     "output_type": "execute_result"
    }
   ],
   "source": [
    "#What is the way to include backslash characters in a string\n",
    "\"\"\"The \\\\ escape character will represent a backslash character.\"\"\""
   ]
  },
  {
   "cell_type": "code",
   "execution_count": 42,
   "id": "a2ecb741",
   "metadata": {},
   "outputs": [
    {
     "data": {
      "text/plain": [
       "\"The single quote in Howl's is fine because you've used double quotes to mark the beginning and end of the string.\""
      ]
     },
     "execution_count": 42,
     "metadata": {},
     "output_type": "execute_result"
    }
   ],
   "source": [
    "#The string \"Howl's Moving Castle\" is a correct value. Why isn't the single quote character in the word How'l not escaped a problem?\n",
    "\"\"\"The single quote in Howl's is fine because you've used double quotes to mark the beginning and end of the string.\"\"\""
   ]
  },
  {
   "cell_type": "code",
   "execution_count": 43,
   "id": "e15aae13",
   "metadata": {},
   "outputs": [
    {
     "data": {
      "text/plain": [
       "\"Howl's Moving Castle\""
      ]
     },
     "execution_count": 43,
     "metadata": {},
     "output_type": "execute_result"
    }
   ],
   "source": [
    "a= \"Howl's Moving Castle\"\n",
    "a"
   ]
  },
  {
   "cell_type": "code",
   "execution_count": 45,
   "id": "07882701",
   "metadata": {},
   "outputs": [
    {
     "data": {
      "text/plain": [
       "'Multiline strings allow you to use newlines in strings without the \\n escape character.'"
      ]
     },
     "execution_count": 45,
     "metadata": {},
     "output_type": "execute_result"
    }
   ],
   "source": [
    "#How do you write a string of newlines if you don&#39;t want to use the n character?\n",
    "\"\"\"Multiline strings allow you to use newlines in strings without the \\n escape character.\"\"\""
   ]
  },
  {
   "cell_type": "code",
   "execution_count": 49,
   "id": "aecf4a20",
   "metadata": {},
   "outputs": [
    {
     "data": {
      "text/plain": [
       "'hello\\ngood morning'"
      ]
     },
     "execution_count": 49,
     "metadata": {},
     "output_type": "execute_result"
    }
   ],
   "source": [
    "a=\"\"\"hello\n",
    "good morning\"\"\"\n",
    "a"
   ]
  },
  {
   "cell_type": "code",
   "execution_count": 54,
   "id": "c276195c",
   "metadata": {},
   "outputs": [
    {
     "data": {
      "text/plain": [
       "'e'"
      ]
     },
     "execution_count": 54,
     "metadata": {},
     "output_type": "execute_result"
    }
   ],
   "source": [
    "#What are the values of the given expressions?\n",
    "\"Hello World!\"[1]\n",
    "# it gives result for range [1]"
   ]
  },
  {
   "cell_type": "code",
   "execution_count": 51,
   "id": "6898d6c5",
   "metadata": {},
   "outputs": [
    {
     "data": {
      "text/plain": [
       "'Hello'"
      ]
     },
     "execution_count": 51,
     "metadata": {},
     "output_type": "execute_result"
    }
   ],
   "source": [
    "\"Hello World\"[0:5]\n",
    "#it gives result from 0 to 5 except 5"
   ]
  },
  {
   "cell_type": "code",
   "execution_count": 52,
   "id": "eb355fab",
   "metadata": {},
   "outputs": [
    {
     "data": {
      "text/plain": [
       "'Hello'"
      ]
     },
     "execution_count": 52,
     "metadata": {},
     "output_type": "execute_result"
    }
   ],
   "source": [
    "\"Hello World\"[:5]\n",
    "#it gives result from start to 5 except 5"
   ]
  },
  {
   "cell_type": "code",
   "execution_count": 53,
   "id": "99fdb0b0",
   "metadata": {},
   "outputs": [
    {
     "data": {
      "text/plain": [
       "'lo World'"
      ]
     },
     "execution_count": 53,
     "metadata": {},
     "output_type": "execute_result"
    }
   ],
   "source": [
    "\"Hello World\"[3:]\n",
    "#it gives you result from  3 to last "
   ]
  },
  {
   "cell_type": "code",
   "execution_count": 56,
   "id": "57b85224",
   "metadata": {},
   "outputs": [
    {
     "data": {
      "text/plain": [
       "'HELLO'"
      ]
     },
     "execution_count": 56,
     "metadata": {},
     "output_type": "execute_result"
    }
   ],
   "source": [
    "#What are the values of the following expressions?\n",
    "\"hello\".upper()\n",
    "#convert the string in upper case"
   ]
  },
  {
   "cell_type": "code",
   "execution_count": 60,
   "id": "82291e40",
   "metadata": {},
   "outputs": [
    {
     "data": {
      "text/plain": [
       "True"
      ]
     },
     "execution_count": 60,
     "metadata": {},
     "output_type": "execute_result"
    }
   ],
   "source": [
    "\"Hello\".upper().isupper()\n",
    "#it first coverts the string in upper case and after checks is string in upper case  and gives result in true and false"
   ]
  },
  {
   "cell_type": "code",
   "execution_count": 63,
   "id": "803ab5cd",
   "metadata": {},
   "outputs": [
    {
     "data": {
      "text/plain": [
       "'hello'"
      ]
     },
     "execution_count": 63,
     "metadata": {},
     "output_type": "execute_result"
    }
   ],
   "source": [
    "\"Hello\".upper().lower()\n",
    "#first it converts the string in upper case and after converts upper case in lower "
   ]
  },
  {
   "cell_type": "code",
   "execution_count": 68,
   "id": "0946f9be",
   "metadata": {},
   "outputs": [
    {
     "data": {
      "text/plain": [
       "['remember,', 'remember,', '5th', 'of', 'july.']"
      ]
     },
     "execution_count": 68,
     "metadata": {},
     "output_type": "execute_result"
    }
   ],
   "source": [
    "#What are the values of the following expressions?\n",
    "\"remember, remember, 5th of july.\".split()\n",
    "#it splits the entire string on the basis of space in the string"
   ]
  },
  {
   "cell_type": "code",
   "execution_count": 73,
   "id": "769fdf65",
   "metadata": {},
   "outputs": [
    {
     "data": {
      "text/plain": [
       "'there-can-only-one.'"
      ]
     },
     "execution_count": 73,
     "metadata": {},
     "output_type": "execute_result"
    }
   ],
   "source": [
    "\"-\".join(\"there can only one.\".split())\n",
    "#its joins the \"-\" in the string on the place of space"
   ]
  },
  {
   "cell_type": "code",
   "execution_count": 74,
   "id": "6152b8bc",
   "metadata": {},
   "outputs": [
    {
     "data": {
      "text/plain": [
       "'The rjust(), ljust(), and center() string methods, respectively'"
      ]
     },
     "execution_count": 74,
     "metadata": {},
     "output_type": "execute_result"
    }
   ],
   "source": [
    "#What are the methods for right-justifying, left-justifying, and centering a string?\n",
    "\"\"\"The rjust(), ljust(), and center() string methods, respectively\"\"\""
   ]
  },
  {
   "cell_type": "code",
   "execution_count": 76,
   "id": "16671492",
   "metadata": {},
   "outputs": [
    {
     "data": {
      "text/plain": [
       "'The lstrip() and rstrip() methods remove whitespace from the left and right ends of a string, respectively.'"
      ]
     },
     "execution_count": 76,
     "metadata": {},
     "output_type": "execute_result"
    }
   ],
   "source": [
    "#What is the best way to remove whitespace characters from the start or end?\n",
    "\"\"\"The lstrip() and rstrip() methods remove whitespace from the left and right ends of a string, respectively.\"\"\""
   ]
  },
  {
   "cell_type": "code",
   "execution_count": 87,
   "id": "fbd474db",
   "metadata": {},
   "outputs": [
    {
     "name": "stdout",
     "output_type": "stream",
     "text": [
      "gouravgg\n"
     ]
    }
   ],
   "source": [
    "a=\"gourav\"\n",
    "print (a.ljust(8,\"g\"))\n",
    "#for left justify"
   ]
  },
  {
   "cell_type": "code",
   "execution_count": 88,
   "id": "96434a84",
   "metadata": {},
   "outputs": [
    {
     "name": "stdout",
     "output_type": "stream",
     "text": [
      "gggourav\n"
     ]
    }
   ],
   "source": [
    "print(a.rjust(8,\"g\"))\n",
    "#for the right justify"
   ]
  },
  {
   "cell_type": "code",
   "execution_count": 91,
   "id": "fe08e07c",
   "metadata": {},
   "outputs": [
    {
     "name": "stdout",
     "output_type": "stream",
     "text": [
      "ggouravg\n"
     ]
    }
   ],
   "source": [
    "print(a.center(8,\"g\"))"
   ]
  },
  {
   "cell_type": "code",
   "execution_count": 78,
   "id": "edca7d32",
   "metadata": {},
   "outputs": [
    {
     "data": {
      "text/plain": [
       "'gourav'"
      ]
     },
     "execution_count": 78,
     "metadata": {},
     "output_type": "execute_result"
    }
   ],
   "source": [
    "\"  gourav\".lstrip()\n",
    "#to remove left whitespace"
   ]
  },
  {
   "cell_type": "code",
   "execution_count": 79,
   "id": "e74c6803",
   "metadata": {},
   "outputs": [
    {
     "data": {
      "text/plain": [
       "'gourav.'"
      ]
     },
     "execution_count": 79,
     "metadata": {},
     "output_type": "execute_result"
    }
   ],
   "source": [
    "\"gourav.     \".rstrip()"
   ]
  }
 ],
 "metadata": {
  "kernelspec": {
   "display_name": "Python 3 (ipykernel)",
   "language": "python",
   "name": "python3"
  },
  "language_info": {
   "codemirror_mode": {
    "name": "ipython",
    "version": 3
   },
   "file_extension": ".py",
   "mimetype": "text/x-python",
   "name": "python",
   "nbconvert_exporter": "python",
   "pygments_lexer": "ipython3",
   "version": "3.9.7"
  }
 },
 "nbformat": 4,
 "nbformat_minor": 5
}
