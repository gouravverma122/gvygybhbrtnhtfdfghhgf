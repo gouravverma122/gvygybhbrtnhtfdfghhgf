{
 "cells": [
  {
   "cell_type": "markdown",
   "id": "9b207b4d",
   "metadata": {},
   "source": [
    "Q1 : In what modes should the PdfFileReader() and PdfFileWriter() File objects will be opened?\n",
    "\n",
    "Ans: PdfFileReader() needs to be opened in read-binary mode by passing 'rb' as the second argument to open(). Likewise, the File object passed to PyPDF2. PdfFileWriter() needs to be opened in write-binary mode with 'wb'."
   ]
  },
  {
   "cell_type": "markdown",
   "id": "f4a2b4f5",
   "metadata": {},
   "source": [
    "Q2 : From a PdfFileReader object, how do you get a Page object for page 5?\n",
    "\n",
    "Ans: To extract text from a page, you need to get a Page object, which represents a single page of a PDF, from a PdfFileReader object. You can get a Page object by calling the getPage() method ➋ on a PdfFileReader object and passing it the page number of the page you're interested in—in our case, 5.\n",
    "    \n",
    "    pageObj = pdfReader.getPage(5)\n",
    "    pageObj.extractText()"
   ]
  },
  {
   "cell_type": "markdown",
   "id": "d33f746a",
   "metadata": {},
   "source": [
    "Q3 : What PdfFileReader variable stores the number of pages in the PDF document?\n",
    "\n",
    " Ans:\n",
    "             \n",
    "      import PyPDF2\n",
    "      \n",
    "      pdfFileObj = open('meetingminutes.pdf', 'rb')\n",
    "      pdfReader = PyPDF2.PdfFileReader(pdfFileObj)\n",
    "      pdfReader.numPages"
   ]
  },
  {
   "cell_type": "markdown",
   "id": "9a5afddf",
   "metadata": {},
   "source": [
    "Q4 : If a PdfFileReader object’s PDF is encrypted with the password swordfish, what must you do\n",
    "before you can obtain Page objects from it?\n",
    "\n",
    "Ans:  Any attempt to call a function that reads the file before it has been decrypted with the correct password will result in an error.\n",
    "    \n",
    "    To read an encrypted PDF, call the decrypt() function and pass the password as a string\n",
    "    \n",
    "    pdfReader = PyPDF2.PdfFileReader(open('encrypted.pdf', 'rb'))\n",
    "    pdfReader.decrypt('rosebud')\n",
    "    1\n",
    "    pageObj = pdfReader.getPage(0)"
   ]
  },
  {
   "cell_type": "markdown",
   "id": "79efac56",
   "metadata": {},
   "source": [
    "Q5 : What methods do you use to rotate a page?\n",
    "    \n",
    "Ans: \n",
    "        \n",
    "    import PyPDF2\n",
    "    minutesFile = open('meetingminutes.pdf', 'rb')\n",
    "    pdfReader = PyPDF2.PdfFileReader(minutesFile)\n",
    "    page = pdfReader.getPage(0)\n",
    "    page.rotateClockwise(90)"
   ]
  },
  {
   "cell_type": "markdown",
   "id": "ff8daeba",
   "metadata": {},
   "source": [
    "Q6 : What is the difference between a Run object and a Paragraph object?\n",
    "\n",
    "Ans: A run is the object most closely associated with inline content; text, pictures, and other items that are flowed between the block-item boundaries within a paragraph.\n",
    "    \n",
    "    Paragraph objects contains a list of one or more Run objects.\n",
    "    "
   ]
  },
  {
   "cell_type": "markdown",
   "id": "3fd69616",
   "metadata": {},
   "source": [
    "Q7 : How do you obtain a list of Paragraph objects for a Document object that’s stored in a variable\n",
    "named doc?\n",
    "\n",
    "Ans: \n",
    "\n",
    "    import docx\n",
    "    doc = docx.Document('demo.docx')\n",
    "    len(doc.paragraphs)\n",
    "    "
   ]
  },
  {
   "cell_type": "markdown",
   "id": "61ffe752",
   "metadata": {},
   "source": [
    "Q8 : What type of object has bold, underline, italic, strike, and outline variables?\n",
    "\n",
    "Ans: \n",
    "   \n",
    "    bold   The text appears in bold.\n",
    "    italic The text appears in italic.\n",
    "    underline The text is underlined.\n",
    "    strike The text appears with strikethrough.\n",
    "    double_strike The text appears with double strikethrough."
   ]
  },
  {
   "cell_type": "markdown",
   "id": "5b217848",
   "metadata": {},
   "source": [
    "Q10 : How do you create a Document object for a new Word document?\n",
    "\n",
    "Ans:\n",
    "\n",
    "    import docx\n",
    "    doc = docx.Document()\n",
    "    doc.add_paragraph('Hello, world!')\n",
    "    doc.save('helloworld.docx') "
   ]
  },
  {
   "cell_type": "markdown",
   "id": "450184e3",
   "metadata": {},
   "source": [
    "Q11 : How do you add a paragraph with the text &#39;Hello, there!&#39; to a Document object stored in a\n",
    "variable named doc?\n",
    "\n",
    "Ans: \n",
    "\n",
    "    import docx\n",
    "    doc = docx.Document()\n",
    "    doc.add_paragraph('Hello, there!')\n",
    "    doc.save('hellothere.docx') "
   ]
  },
  {
   "cell_type": "markdown",
   "id": "70cf114d",
   "metadata": {},
   "source": [
    "Q12 : What integers represent the levels of headings available in Word documents?\n",
    "    \n",
    "Ans: top-level headings (Heading 1) are numbered 1, 2, 3, for example, and second-level headings (Heading 2) are numbered 1.1, 1.2, 1.3."
   ]
  }
 ],
 "metadata": {
  "kernelspec": {
   "display_name": "Python 3 (ipykernel)",
   "language": "python",
   "name": "python3"
  },
  "language_info": {
   "codemirror_mode": {
    "name": "ipython",
    "version": 3
   },
   "file_extension": ".py",
   "mimetype": "text/x-python",
   "name": "python",
   "nbconvert_exporter": "python",
   "pygments_lexer": "ipython3",
   "version": "3.9.7"
  }
 },
 "nbformat": 4,
 "nbformat_minor": 5
}
