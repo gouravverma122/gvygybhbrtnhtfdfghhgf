{
 "cells": [
  {
   "cell_type": "markdown",
   "id": "16f32f8a",
   "metadata": {},
   "source": [
    "Q1 : What does RGBA stand for?\n",
    "    \n",
    "Ans: An RGBA value is a group of numbers that specify the amount of red, green, blue, and alpha (or transparency) in a color. Each of these component values is an integer from 0 (none at all) to 255 (the maximum). These RGBA values are assigned to individual pixels; a pixel is the smallest dot of a single color the computer screen can show (as you can imagine, there are millions of pixels on a screen). A pixel’s RGB setting tells it precisely what shade of color it should display. Images also have an alpha value to create RGBA values. If an image is displayed on the screen over a background image or desktop wallpaper, the alpha value determines how much of the background you can “see through” the image’s pixel."
   ]
  },
  {
   "cell_type": "markdown",
   "id": "15027693",
   "metadata": {},
   "source": [
    "Q2 : From the Pillow module, how do you get the RGBA value of any images?\n",
    "\n",
    "Ans: \n",
    "        \n",
    "    from PIL import ImageColor\n",
    "    >>> ImageColor.getcolor('red', 'RGBA')\n",
    "        (255, 0, 0, 255)\n",
    "    >>> ImageColor.getcolor('RED', 'RGBA')\n",
    "        (255, 0, 0, 255)\n",
    "    >>> ImageColor.getcolor('Black', 'RGBA')\n",
    "       (0, 0, 0, 255)\n",
    "    >>> ImageColor.getcolor('chocolate', 'RGBA')\n",
    "       (210, 105, 30, 255)\n",
    "    >>> ImageColor.getcolor('CornflowerBlue', 'RGBA')\n",
    "       (100, 149, 237, 255)"
   ]
  },
  {
   "cell_type": "markdown",
   "id": "c305f09e",
   "metadata": {},
   "source": [
    "Q3 : What is a box tuple, and how does it work?\n",
    "\n",
    "Ans: Many of Pillow’s functions and methods take a box tuple argument. This means Pillow is expecting a tuple of four integer coordinates that represent a rectangular region in an image. The four integers are, in order, as follows:\n",
    "\n",
    "Left: The x-coordinate of the leftmost edge of the box.\n",
    "\n",
    "Top: The y-coordinate of the top edge of the box.\n",
    "\n",
    "Right: The x-coordinate of one pixel to the right of the rightmost edge of the box. This integer must be greater than the left integer.\n",
    "\n",
    "Bottom: The y-coordinate of one pixel lower than the bottom edge of the box. This integer must be greater than the top integer.\n"
   ]
  },
  {
   "cell_type": "markdown",
   "id": "991131d4",
   "metadata": {},
   "source": [
    "Q4 : Use your image and load in notebook then, How can you find out the width and height of an\n",
    "Image object?\n",
    "\n",
    "Ans: \n",
    "\n",
    "    from PIL import Image\n",
    "    >>> catIm = Image.open('zophie.png')\n",
    "    >>> catIm.size\n",
    "       (816, 1088)\n",
    "    >>> width, height = catIm.size\n",
    "    >>> width\n",
    "       816\n",
    "    >>> height\n",
    "       1088"
   ]
  },
  {
   "cell_type": "markdown",
   "id": "3278248a",
   "metadata": {},
   "source": [
    "Q5 : What method would you call to get Image object for a 100×100 image, excluding the lower-left\n",
    "quarter of it?\n",
    "\n",
    "Ans: \n",
    "    \n",
    "    from PIL import Image\n",
    "    im = Image.new('RGBA', (100, 100), 'purple')\n",
    "        im.save('purpleImage.png')"
   ]
  },
  {
   "cell_type": "markdown",
   "id": "3467007a",
   "metadata": {},
   "source": [
    "Q6: After making changes to an Image object, how could you save it as an image file?\n",
    "\n",
    "Ans: \n",
    "\n",
    "    from PIL import Image\n",
    "    im = Image.new('RGBA', (100, 200), 'purple')\n",
    "    im.save('purpleImage.png')\n",
    "    im2 = Image.new('RGBA', (20, 20))\n",
    "    im2.save('transparentImage.png')\n"
   ]
  },
  {
   "cell_type": "markdown",
   "id": "0b76db40",
   "metadata": {},
   "source": [
    "Q7 : What module contains Pillow’s shape-drawing code?\n",
    "    \n",
    "Ans: Pillow’s ImageDraw module"
   ]
  }
 ],
 "metadata": {
  "kernelspec": {
   "display_name": "Python 3 (ipykernel)",
   "language": "python",
   "name": "python3"
  },
  "language_info": {
   "codemirror_mode": {
    "name": "ipython",
    "version": 3
   },
   "file_extension": ".py",
   "mimetype": "text/x-python",
   "name": "python",
   "nbconvert_exporter": "python",
   "pygments_lexer": "ipython3",
   "version": "3.9.7"
  }
 },
 "nbformat": 4,
 "nbformat_minor": 5
}
