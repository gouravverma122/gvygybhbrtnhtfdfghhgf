{
 "cells": [
  {
   "cell_type": "markdown",
   "id": "733d77ca",
   "metadata": {},
   "source": [
    "Q1 : What is the result of the code, and why?\n",
    "       def func(a, b=6, c=8):\n",
    "            print(a, b, c)\n",
    " func(1, 2)"
   ]
  },
  {
   "cell_type": "code",
   "execution_count": 2,
   "id": "e2cfb260",
   "metadata": {},
   "outputs": [
    {
     "name": "stdout",
     "output_type": "stream",
     "text": [
      "1 2 8\n"
     ]
    },
    {
     "data": {
      "text/plain": [
       "'in this function we get the 1 2 8  values because in the function a is empty and b= 6 and c = 8 but when we call the func(1,2 ) at the time it takes these values for a =1 and b =2 and the c = 8 as in the func()\\nbut if we call the func by giving values to the variable a, b, c individual then it will call them into the same variable'"
      ]
     },
     "execution_count": 2,
     "metadata": {},
     "output_type": "execute_result"
    }
   ],
   "source": [
    "def func(a, b=6, c=8):\n",
    "    print (a,b,c)\n",
    "func(1,2)\n",
    "\n",
    "\"\"\"in this function we get the 1 2 8  values because in the function a is empty and b= 6 and c = 8 but when we call the func(1,2 ) at the time it takes these values for a =1 and b =2 and the c = 8 as in the func()\n",
    "but if we call the func by giving values to the variable a, b, c individual then it will call them into the same variable\"\"\""
   ]
  },
  {
   "cell_type": "markdown",
   "id": "87f42423",
   "metadata": {},
   "source": [
    "Q2 : What is the result of this code, and why?\n"
   ]
  },
  {
   "cell_type": "code",
   "execution_count": 5,
   "id": "8a1bea65",
   "metadata": {},
   "outputs": [
    {
     "name": "stdout",
     "output_type": "stream",
     "text": [
      "1 2 3\n"
     ]
    },
    {
     "data": {
      "text/plain": [
       "'here the function 1 consider as the value for a because if the values are not given to the variable then the values goes to the respective variable\\nand the c and b has given the values in function so these values are overright at the time of function call'"
      ]
     },
     "execution_count": 5,
     "metadata": {},
     "output_type": "execute_result"
    }
   ],
   "source": [
    "def func(a,b, c=5):\n",
    "    print(a,b,c)\n",
    "func(1, c=3, b=2)\n",
    "\"\"\"here the function 1 consider as the value for a because if the values are not given to the variable then the values goes to the respective variable\n",
    "and the c and b has given the values in function so these values are overright at the time of function call\"\"\""
   ]
  },
  {
   "cell_type": "markdown",
   "id": "4868add5",
   "metadata": {},
   "source": [
    "Q3 : How about this code: what is its result, and why?"
   ]
  },
  {
   "cell_type": "code",
   "execution_count": 13,
   "id": "32953815",
   "metadata": {},
   "outputs": [
    {
     "name": "stdout",
     "output_type": "stream",
     "text": [
      "1 (2, 3)\n",
      "23 (4, 32, 4, 34, 324, 23, 4, 234, 32, 4, 23)\n"
     ]
    }
   ],
   "source": [
    "def func(a, *pargs):\n",
    "    print(a, pargs)\n",
    "func(1, 2, 3)\n",
    "\n",
    "\"\"\"in the function 1st value is consider as a and the other given values goes to *pargs \"\"\"\n",
    "func(23,4,32,4,34,324,23,4,234,32,4,23)\n"
   ]
  },
  {
   "cell_type": "markdown",
   "id": "fb00c2c7",
   "metadata": {},
   "source": [
    "Q4 : What does this code print, and why?"
   ]
  },
  {
   "cell_type": "code",
   "execution_count": 14,
   "id": "3fbf98a8",
   "metadata": {},
   "outputs": [
    {
     "name": "stdout",
     "output_type": "stream",
     "text": [
      "1 {'c': 3, 'b': 2}\n"
     ]
    },
    {
     "data": {
      "text/plain": [
       "'in this func() the first value is for a and the other values b and c are goes in **kargs because that is takes values as a dictionary in keys and value form as in the output'"
      ]
     },
     "execution_count": 14,
     "metadata": {},
     "output_type": "execute_result"
    }
   ],
   "source": [
    "def func(a, **kargs):\n",
    "    print(a, kargs)\n",
    "func(a=1, c=3, b=2)\n",
    "\"\"\"in this func() the first value is for a and the other values b and c are goes in **kargs because that is takes values as a dictionary in keys and value form as in the output\"\"\""
   ]
  },
  {
   "cell_type": "markdown",
   "id": "65fc34d8",
   "metadata": {},
   "source": [
    "Q 5 :What gets printed by this, and explain?\n"
   ]
  },
  {
   "cell_type": "code",
   "execution_count": 16,
   "id": "5d0f09a0",
   "metadata": {},
   "outputs": [
    {
     "name": "stdout",
     "output_type": "stream",
     "text": [
      "1 5 6 5\n"
     ]
    },
    {
     "data": {
      "text/plain": [
       "'in the function you can see the func(1,*(5,6)) in this the 1 is for a and the values under the * is for respective two variable b and c and the d took as same in the def)'"
      ]
     },
     "execution_count": 16,
     "metadata": {},
     "output_type": "execute_result"
    }
   ],
   "source": [
    "def func(a, b, c=8, d=5): \n",
    "    print(a, b, c, d)\n",
    "func(1, *(5, 6))\n",
    "\"\"\"in the function you can see the func(1,*(5,6)) in this the 1 is for a and the values under the * is for respective two variable b and c and the d took as same in the def)\"\"\""
   ]
  },
  {
   "cell_type": "markdown",
   "id": "15114c53",
   "metadata": {},
   "source": [
    "Q6 : what is the result of this, and explain?"
   ]
  },
  {
   "cell_type": "code",
   "execution_count": 32,
   "id": "9456f248",
   "metadata": {},
   "outputs": [
    {
     "data": {
      "text/plain": [
       "(1, ['x'], {'a': 'y'})"
      ]
     },
     "execution_count": 32,
     "metadata": {},
     "output_type": "execute_result"
    }
   ],
   "source": [
    "def func(a, b, c):a = 2; b[0] = \"x\"; c[\"a\"] = \"y\"\n",
    "l=1; m=[1]; n={\"a\":0}\n",
    "func(l, m, n)\n",
    "l, m, n\n",
    "###\"\"\"in the function a = int so and l is also an int so it takes l= 1 , in the m =[1] but if you see where b[0]= x so the m takes value from the b[0] and at the last \n",
    "###n={\"a\":0} where is is taken as it is but the value of \"a\"  is taken form c \"\"\""
   ]
  },
  {
   "cell_type": "code",
   "execution_count": null,
   "id": "4067eb90",
   "metadata": {},
   "outputs": [],
   "source": []
  }
 ],
 "metadata": {
  "kernelspec": {
   "display_name": "Python 3 (ipykernel)",
   "language": "python",
   "name": "python3"
  },
  "language_info": {
   "codemirror_mode": {
    "name": "ipython",
    "version": 3
   },
   "file_extension": ".py",
   "mimetype": "text/x-python",
   "name": "python",
   "nbconvert_exporter": "python",
   "pygments_lexer": "ipython3",
   "version": "3.9.7"
  }
 },
 "nbformat": 4,
 "nbformat_minor": 5
}
