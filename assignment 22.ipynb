{
 "cells": [
  {
   "cell_type": "markdown",
   "id": "f1b1fa9a",
   "metadata": {},
   "source": [
    "Q1 : What is the result of the code, and explain?"
   ]
  },
  {
   "cell_type": "code",
   "execution_count": 3,
   "id": "df4c904a",
   "metadata": {},
   "outputs": [
    {
     "name": "stdout",
     "output_type": "stream",
     "text": [
      "iNeuron\n"
     ]
    },
    {
     "data": {
      "text/plain": [
       "'here x is universal veriable '"
      ]
     },
     "execution_count": 3,
     "metadata": {},
     "output_type": "execute_result"
    }
   ],
   "source": [
    "X = \"iNeuron\"\n",
    "def func():\n",
    "    print(X)\n",
    "\n",
    "func()\n",
    "\"\"\"here x is global veriable \"\"\""
   ]
  },
  {
   "cell_type": "markdown",
   "id": "5affaaf8",
   "metadata": {},
   "source": [
    "Q2 : What is the result of the code, and explain?"
   ]
  },
  {
   "cell_type": "code",
   "execution_count": 15,
   "id": "a3236dac",
   "metadata": {},
   "outputs": [
    {
     "name": "stdout",
     "output_type": "stream",
     "text": [
      "iNeuron\n"
     ]
    },
    {
     "data": {
      "text/plain": [
       "'the outcome is iNeuron because it is the global variable and the print is calling in func() '"
      ]
     },
     "execution_count": 15,
     "metadata": {},
     "output_type": "execute_result"
    }
   ],
   "source": [
    "X = \"iNeuron\"\n",
    "def func():\n",
    "    X = \"NI\"\n",
    "func()\n",
    "print(X)\n",
    "\n",
    "\"\"\"the outcome is iNeuron because it is the global variable and the print is calling in func() \"\"\""
   ]
  },
  {
   "cell_type": "markdown",
   "id": "181dc863",
   "metadata": {},
   "source": [
    "Q3 : What does this code print, and why?"
   ]
  },
  {
   "cell_type": "code",
   "execution_count": 18,
   "id": "4fca0f3a",
   "metadata": {},
   "outputs": [
    {
     "name": "stdout",
     "output_type": "stream",
     "text": [
      "NI\n",
      "iNeuron\n"
     ]
    },
    {
     "data": {
      "text/plain": [
       "'here the print provides the outcome for the function we call '"
      ]
     },
     "execution_count": 18,
     "metadata": {},
     "output_type": "execute_result"
    }
   ],
   "source": [
    "X = \"iNeuron\"\n",
    "def func():\n",
    "    X = \"NI\"\n",
    "    print(X)\n",
    "\n",
    "func()\n",
    "print(X)\n",
    "\n",
    "\"\"\"here the print provides the outcome for the function we call in none type \"\"\""
   ]
  },
  {
   "cell_type": "markdown",
   "id": "dcfa6780",
   "metadata": {},
   "source": [
    "Q4 : What output does this code produce? Why?"
   ]
  },
  {
   "cell_type": "code",
   "execution_count": 27,
   "id": "90537ddf",
   "metadata": {},
   "outputs": [
    {
     "name": "stdout",
     "output_type": "stream",
     "text": [
      "NI\n"
     ]
    },
    {
     "data": {
      "text/plain": [
       "'here the in line no. 3 we call the global x and in line 4 we change it in x=\"NI\" '"
      ]
     },
     "execution_count": 27,
     "metadata": {},
     "output_type": "execute_result"
    }
   ],
   "source": [
    "X = \"iNeuron\"\n",
    "def func():\n",
    "    global X\n",
    "    X = \"NI\";\n",
    "func()\n",
    "print(X)\n",
    "\"\"\"here the in line no. 3 we call the global x and in line 4 we change it in x=\"NI\" \"\"\""
   ]
  },
  {
   "cell_type": "markdown",
   "id": "ad1abed2",
   "metadata": {},
   "source": [
    "Q5 : What about this code—what’s the output, and why?"
   ]
  },
  {
   "cell_type": "code",
   "execution_count": 31,
   "id": "22151bcd",
   "metadata": {},
   "outputs": [
    {
     "name": "stdout",
     "output_type": "stream",
     "text": [
      "iNeuron\n"
     ]
    },
    {
     "data": {
      "text/plain": [
       "'the coutcome is given by the nested() function because it has the print command and there is no command for the func()\\nso its print iNeuron'"
      ]
     },
     "execution_count": 31,
     "metadata": {},
     "output_type": "execute_result"
    }
   ],
   "source": [
    " X = \"iNeuron\"\n",
    "def func():\n",
    "    X = \"NI\"\n",
    "def nested():\n",
    "    print(X)\n",
    "nested()\n",
    "\n",
    "func()\n",
    "X\n",
    "\"\"\"the coutcome is given by the nested() function because it has the print command and there is no command for the func()\n",
    "so its print iNeuron\"\"\""
   ]
  },
  {
   "cell_type": "markdown",
   "id": "c83ab576",
   "metadata": {},
   "source": [
    "Q6 : How about this code: what is its output in Python 3, and explain?"
   ]
  },
  {
   "cell_type": "code",
   "execution_count": 53,
   "id": "13e50b77",
   "metadata": {},
   "outputs": [
    {
     "name": "stdout",
     "output_type": "stream",
     "text": [
      "Spam\n",
      "Spam\n"
     ]
    },
    {
     "data": {
      "text/plain": [
       "'it gives the outcome \"spam\" because it is X=\"NI\" is a local variable'"
      ]
     },
     "execution_count": 53,
     "metadata": {},
     "output_type": "execute_result"
    }
   ],
   "source": [
    "def func():\n",
    "    X = \"NI\"\n",
    "    def nested():\n",
    "        nonlocal X\n",
    "        X =\"Spam\"\n",
    "nested()\n",
    "print(X)\n",
    "func()\n",
    "\"\"\"it gives the outcome \"spam\" because it is X=\"NI\" is a local variable\"\"\""
   ]
  }
 ],
 "metadata": {
  "kernelspec": {
   "display_name": "Python 3 (ipykernel)",
   "language": "python",
   "name": "python3"
  },
  "language_info": {
   "codemirror_mode": {
    "name": "ipython",
    "version": 3
   },
   "file_extension": ".py",
   "mimetype": "text/x-python",
   "name": "python",
   "nbconvert_exporter": "python",
   "pygments_lexer": "ipython3",
   "version": "3.9.7"
  }
 },
 "nbformat": 4,
 "nbformat_minor": 5
}
