{
 "cells": [
  {
   "cell_type": "code",
   "execution_count": 75,
   "id": "5279c14d",
   "metadata": {},
   "outputs": [],
   "source": [
    "g = \"gour\""
   ]
  },
  {
   "cell_type": "code",
   "execution_count": 76,
   "id": "a66f3688",
   "metadata": {},
   "outputs": [
    {
     "data": {
      "text/plain": [
       "str"
      ]
     },
     "execution_count": 76,
     "metadata": {},
     "output_type": "execute_result"
    }
   ],
   "source": [
    "type(g)"
   ]
  },
  {
   "cell_type": "code",
   "execution_count": 77,
   "id": "abbe70eb",
   "metadata": {},
   "outputs": [
    {
     "data": {
      "text/plain": [
       "'g'"
      ]
     },
     "execution_count": 77,
     "metadata": {},
     "output_type": "execute_result"
    }
   ],
   "source": [
    "g[0]"
   ]
  },
  {
   "cell_type": "code",
   "execution_count": 78,
   "id": "69567f05",
   "metadata": {},
   "outputs": [
    {
     "data": {
      "text/plain": [
       "'u'"
      ]
     },
     "execution_count": 78,
     "metadata": {},
     "output_type": "execute_result"
    }
   ],
   "source": [
    "g[2]"
   ]
  },
  {
   "cell_type": "code",
   "execution_count": 79,
   "id": "9f38eb2b",
   "metadata": {},
   "outputs": [
    {
     "data": {
      "text/plain": [
       "'u'"
      ]
     },
     "execution_count": 79,
     "metadata": {},
     "output_type": "execute_result"
    }
   ],
   "source": [
    "g[-2]"
   ]
  },
  {
   "cell_type": "code",
   "execution_count": 80,
   "id": "1feed096",
   "metadata": {},
   "outputs": [
    {
     "data": {
      "text/plain": [
       "'o'"
      ]
     },
     "execution_count": 80,
     "metadata": {},
     "output_type": "execute_result"
    }
   ],
   "source": [
    "g[-3]"
   ]
  },
  {
   "cell_type": "code",
   "execution_count": 81,
   "id": "3e85e8b4",
   "metadata": {},
   "outputs": [
    {
     "data": {
      "text/plain": [
       "'r'"
      ]
     },
     "execution_count": 81,
     "metadata": {},
     "output_type": "execute_result"
    }
   ],
   "source": [
    "g[-1]"
   ]
  },
  {
   "cell_type": "code",
   "execution_count": 82,
   "id": "e11eeb63",
   "metadata": {},
   "outputs": [],
   "source": [
    "a=\"my name is gourav\""
   ]
  },
  {
   "cell_type": "code",
   "execution_count": 83,
   "id": "4da87d17",
   "metadata": {},
   "outputs": [
    {
     "data": {
      "text/plain": [
       "str"
      ]
     },
     "execution_count": 83,
     "metadata": {},
     "output_type": "execute_result"
    }
   ],
   "source": [
    "type(a)"
   ]
  },
  {
   "cell_type": "code",
   "execution_count": 84,
   "id": "4c7d3db8",
   "metadata": {},
   "outputs": [
    {
     "data": {
      "text/plain": [
       "'my name i'"
      ]
     },
     "execution_count": 84,
     "metadata": {},
     "output_type": "execute_result"
    }
   ],
   "source": [
    "a[0:9]"
   ]
  },
  {
   "cell_type": "code",
   "execution_count": 85,
   "id": "aa90c129",
   "metadata": {},
   "outputs": [
    {
     "data": {
      "text/plain": [
       "''"
      ]
     },
     "execution_count": 85,
     "metadata": {},
     "output_type": "execute_result"
    }
   ],
   "source": [
    "a[-1:-7]"
   ]
  },
  {
   "cell_type": "code",
   "execution_count": 86,
   "id": "0e2d8653",
   "metadata": {},
   "outputs": [
    {
     "data": {
      "text/plain": [
       "'my name is gourav'"
      ]
     },
     "execution_count": 86,
     "metadata": {},
     "output_type": "execute_result"
    }
   ],
   "source": [
    "a[0:89]"
   ]
  },
  {
   "cell_type": "code",
   "execution_count": 89,
   "id": "0ce06cc8",
   "metadata": {},
   "outputs": [
    {
     "data": {
      "text/plain": [
       "'m aei orv'"
      ]
     },
     "execution_count": 89,
     "metadata": {},
     "output_type": "execute_result"
    }
   ],
   "source": [
    "a[0:87:2]"
   ]
  },
  {
   "cell_type": "code",
   "execution_count": 90,
   "id": "05aaafc4",
   "metadata": {},
   "outputs": [
    {
     "data": {
      "text/plain": [
       "'mnesoa'"
      ]
     },
     "execution_count": 90,
     "metadata": {},
     "output_type": "execute_result"
    }
   ],
   "source": [
    "a[0:300:3]"
   ]
  },
  {
   "cell_type": "code",
   "execution_count": 94,
   "id": "2b8c14d2",
   "metadata": {},
   "outputs": [
    {
     "data": {
      "text/plain": [
       "'varuog'"
      ]
     },
     "execution_count": 94,
     "metadata": {},
     "output_type": "execute_result"
    }
   ],
   "source": [
    "a[-1:-7:-1]"
   ]
  },
  {
   "cell_type": "code",
   "execution_count": 95,
   "id": "c06d5687",
   "metadata": {},
   "outputs": [
    {
     "data": {
      "text/plain": [
       "'is goura'"
      ]
     },
     "execution_count": 95,
     "metadata": {},
     "output_type": "execute_result"
    }
   ],
   "source": [
    "a[-9:-1]"
   ]
  },
  {
   "cell_type": "code",
   "execution_count": 96,
   "id": "13703b6f",
   "metadata": {},
   "outputs": [
    {
     "data": {
      "text/plain": [
       "'my name i'"
      ]
     },
     "execution_count": 96,
     "metadata": {},
     "output_type": "execute_result"
    }
   ],
   "source": [
    "a[:9]"
   ]
  },
  {
   "cell_type": "code",
   "execution_count": 97,
   "id": "e2236fb8",
   "metadata": {},
   "outputs": [
    {
     "data": {
      "text/plain": [
       "'varuog si eman ym'"
      ]
     },
     "execution_count": 97,
     "metadata": {},
     "output_type": "execute_result"
    }
   ],
   "source": [
    "a[::-1]"
   ]
  },
  {
   "cell_type": "code",
   "execution_count": 98,
   "id": "4149036f",
   "metadata": {},
   "outputs": [
    {
     "data": {
      "text/plain": [
       "'ruog si eman ym'"
      ]
     },
     "execution_count": 98,
     "metadata": {},
     "output_type": "execute_result"
    }
   ],
   "source": [
    "a[-3::-1]"
   ]
  },
  {
   "cell_type": "code",
   "execution_count": 99,
   "id": "79d8c254",
   "metadata": {},
   "outputs": [
    {
     "data": {
      "text/plain": [
       "'my name is gourav'"
      ]
     },
     "execution_count": 99,
     "metadata": {},
     "output_type": "execute_result"
    }
   ],
   "source": [
    "a[::1]"
   ]
  },
  {
   "cell_type": "code",
   "execution_count": 110,
   "id": "e905295b",
   "metadata": {},
   "outputs": [
    {
     "data": {
      "text/plain": [
       "'ruog si eman y'"
      ]
     },
     "execution_count": 110,
     "metadata": {},
     "output_type": "execute_result"
    }
   ],
   "source": [
    "a[-3:0:-1]"
   ]
  },
  {
   "cell_type": "code",
   "execution_count": 111,
   "id": "a816d37d",
   "metadata": {},
   "outputs": [
    {
     "data": {
      "text/plain": [
       "'m r'"
      ]
     },
     "execution_count": 111,
     "metadata": {},
     "output_type": "execute_result"
    }
   ],
   "source": [
    "a[0:100:7]"
   ]
  },
  {
   "cell_type": "code",
   "execution_count": 112,
   "id": "97490fcb",
   "metadata": {},
   "outputs": [
    {
     "data": {
      "text/plain": [
       "'mm a'"
      ]
     },
     "execution_count": 112,
     "metadata": {},
     "output_type": "execute_result"
    }
   ],
   "source": [
    "a[0:100:5]"
   ]
  },
  {
   "cell_type": "code",
   "execution_count": 113,
   "id": "13e52112",
   "metadata": {},
   "outputs": [
    {
     "data": {
      "text/plain": [
       "'maiov'"
      ]
     },
     "execution_count": 113,
     "metadata": {},
     "output_type": "execute_result"
    }
   ],
   "source": [
    "a[0:100:4]"
   ]
  },
  {
   "cell_type": "code",
   "execution_count": 114,
   "id": "2197dc18",
   "metadata": {},
   "outputs": [
    {
     "data": {
      "text/plain": [
       "17"
      ]
     },
     "execution_count": 114,
     "metadata": {},
     "output_type": "execute_result"
    }
   ],
   "source": [
    "len(a)"
   ]
  },
  {
   "cell_type": "code",
   "execution_count": 120,
   "id": "6213af7c",
   "metadata": {},
   "outputs": [
    {
     "data": {
      "text/plain": [
       "0"
      ]
     },
     "execution_count": 120,
     "metadata": {},
     "output_type": "execute_result"
    }
   ],
   "source": [
    "a.find('m')"
   ]
  },
  {
   "cell_type": "code",
   "execution_count": 122,
   "id": "4580a363",
   "metadata": {},
   "outputs": [
    {
     "data": {
      "text/plain": [
       "11"
      ]
     },
     "execution_count": 122,
     "metadata": {},
     "output_type": "execute_result"
    }
   ],
   "source": [
    "a.find('gou')"
   ]
  },
  {
   "cell_type": "code",
   "execution_count": 123,
   "id": "aa1725a1",
   "metadata": {},
   "outputs": [
    {
     "data": {
      "text/plain": [
       "-1"
      ]
     },
     "execution_count": 123,
     "metadata": {},
     "output_type": "execute_result"
    }
   ],
   "source": [
    "a.find('mi')"
   ]
  },
  {
   "cell_type": "code",
   "execution_count": 125,
   "id": "f2048d2e",
   "metadata": {},
   "outputs": [
    {
     "data": {
      "text/plain": [
       "2"
      ]
     },
     "execution_count": 125,
     "metadata": {},
     "output_type": "execute_result"
    }
   ],
   "source": [
    "a.count('a')"
   ]
  },
  {
   "cell_type": "code",
   "execution_count": 126,
   "id": "0c9991c6",
   "metadata": {},
   "outputs": [
    {
     "data": {
      "text/plain": [
       "'my name is gourav'"
      ]
     },
     "execution_count": 126,
     "metadata": {},
     "output_type": "execute_result"
    }
   ],
   "source": [
    "a"
   ]
  },
  {
   "cell_type": "code",
   "execution_count": 127,
   "id": "b5108c76",
   "metadata": {},
   "outputs": [
    {
     "data": {
      "text/plain": [
       "['my', 'name', 'is', 'gourav']"
      ]
     },
     "execution_count": 127,
     "metadata": {},
     "output_type": "execute_result"
    }
   ],
   "source": [
    "a.split()"
   ]
  },
  {
   "cell_type": "code",
   "execution_count": 129,
   "id": "afb6e1c7",
   "metadata": {},
   "outputs": [
    {
     "data": {
      "text/plain": [
       "list"
      ]
     },
     "execution_count": 129,
     "metadata": {},
     "output_type": "execute_result"
    }
   ],
   "source": [
    "type(a.split())"
   ]
  },
  {
   "cell_type": "code",
   "execution_count": 224,
   "id": "d7e4dc6f",
   "metadata": {},
   "outputs": [],
   "source": [
    "l=a.split()"
   ]
  },
  {
   "cell_type": "code",
   "execution_count": 140,
   "id": "3011ee00",
   "metadata": {},
   "outputs": [
    {
     "data": {
      "text/plain": [
       "'my'"
      ]
     },
     "execution_count": 140,
     "metadata": {},
     "output_type": "execute_result"
    }
   ],
   "source": [
    "b[0]"
   ]
  },
  {
   "cell_type": "code",
   "execution_count": 141,
   "id": "6486fcdf",
   "metadata": {},
   "outputs": [
    {
     "data": {
      "text/plain": [
       "'gourav'"
      ]
     },
     "execution_count": 141,
     "metadata": {},
     "output_type": "execute_result"
    }
   ],
   "source": [
    "b[3]"
   ]
  },
  {
   "cell_type": "code",
   "execution_count": 143,
   "id": "4b7c2f8a",
   "metadata": {},
   "outputs": [
    {
     "data": {
      "text/plain": [
       "'is'"
      ]
     },
     "execution_count": 143,
     "metadata": {},
     "output_type": "execute_result"
    }
   ],
   "source": [
    "b[2]"
   ]
  },
  {
   "cell_type": "code",
   "execution_count": 144,
   "id": "accc002b",
   "metadata": {},
   "outputs": [
    {
     "data": {
      "text/plain": [
       "['my', 'name', 'is', 'gourav']"
      ]
     },
     "execution_count": 144,
     "metadata": {},
     "output_type": "execute_result"
    }
   ],
   "source": [
    "b[0:4]"
   ]
  },
  {
   "cell_type": "code",
   "execution_count": 146,
   "id": "fee55178",
   "metadata": {},
   "outputs": [
    {
     "data": {
      "text/plain": [
       "['my', 'name', 'is']"
      ]
     },
     "execution_count": 146,
     "metadata": {},
     "output_type": "execute_result"
    }
   ],
   "source": [
    "b[0:3]"
   ]
  },
  {
   "cell_type": "code",
   "execution_count": 147,
   "id": "ae88d0c3",
   "metadata": {},
   "outputs": [
    {
     "data": {
      "text/plain": [
       "['name']"
      ]
     },
     "execution_count": 147,
     "metadata": {},
     "output_type": "execute_result"
    }
   ],
   "source": [
    "b[1:2]"
   ]
  },
  {
   "cell_type": "code",
   "execution_count": 149,
   "id": "d4947d53",
   "metadata": {},
   "outputs": [
    {
     "data": {
      "text/plain": [
       "['my', 'is']"
      ]
     },
     "execution_count": 149,
     "metadata": {},
     "output_type": "execute_result"
    }
   ],
   "source": [
    "b[0:4:2]"
   ]
  },
  {
   "cell_type": "code",
   "execution_count": 150,
   "id": "cd6b26fb",
   "metadata": {},
   "outputs": [
    {
     "data": {
      "text/plain": [
       "['my n', 'me is gour', 'v']"
      ]
     },
     "execution_count": 150,
     "metadata": {},
     "output_type": "execute_result"
    }
   ],
   "source": [
    "a.split('a')"
   ]
  },
  {
   "cell_type": "code",
   "execution_count": 151,
   "id": "d11a5e97",
   "metadata": {},
   "outputs": [
    {
     "data": {
      "text/plain": [
       "['', 'y na', 'e is gourav']"
      ]
     },
     "execution_count": 151,
     "metadata": {},
     "output_type": "execute_result"
    }
   ],
   "source": [
    "a.split('m')"
   ]
  },
  {
   "cell_type": "code",
   "execution_count": 152,
   "id": "cdcd8421",
   "metadata": {},
   "outputs": [
    {
     "data": {
      "text/plain": [
       "'MY NAME IS GOURAV'"
      ]
     },
     "execution_count": 152,
     "metadata": {},
     "output_type": "execute_result"
    }
   ],
   "source": [
    "a.upper()"
   ]
  },
  {
   "cell_type": "code",
   "execution_count": 155,
   "id": "fe50556d",
   "metadata": {},
   "outputs": [],
   "source": [
    "d = \"goUrav\""
   ]
  },
  {
   "cell_type": "code",
   "execution_count": 156,
   "id": "b9ddfcc5",
   "metadata": {},
   "outputs": [
    {
     "data": {
      "text/plain": [
       "'GOuRAV'"
      ]
     },
     "execution_count": 156,
     "metadata": {},
     "output_type": "execute_result"
    }
   ],
   "source": [
    "d.swapcase()"
   ]
  },
  {
   "cell_type": "code",
   "execution_count": 157,
   "id": "4e5d8e2b",
   "metadata": {},
   "outputs": [
    {
     "data": {
      "text/plain": [
       "'Gourav'"
      ]
     },
     "execution_count": 157,
     "metadata": {},
     "output_type": "execute_result"
    }
   ],
   "source": [
    "d.title()"
   ]
  },
  {
   "cell_type": "code",
   "execution_count": 159,
   "id": "586db6d3",
   "metadata": {},
   "outputs": [
    {
     "data": {
      "text/plain": [
       "'Gourav'"
      ]
     },
     "execution_count": 159,
     "metadata": {},
     "output_type": "execute_result"
    }
   ],
   "source": [
    "d.capitalize()"
   ]
  },
  {
   "cell_type": "code",
   "execution_count": 162,
   "id": "2c05c818",
   "metadata": {},
   "outputs": [],
   "source": [
    "e = \"gourav\"\n",
    "f = \"verma\""
   ]
  },
  {
   "cell_type": "code",
   "execution_count": 165,
   "id": "834f8fa0",
   "metadata": {},
   "outputs": [
    {
     "data": {
      "text/plain": [
       "'vgouravegouravrgouravmgourava'"
      ]
     },
     "execution_count": 165,
     "metadata": {},
     "output_type": "execute_result"
    }
   ],
   "source": [
    "e.join(f)"
   ]
  },
  {
   "cell_type": "code",
   "execution_count": 166,
   "id": "db06cb06",
   "metadata": {},
   "outputs": [
    {
     "data": {
      "text/plain": [
       "'v e r m a'"
      ]
     },
     "execution_count": 166,
     "metadata": {},
     "output_type": "execute_result"
    }
   ],
   "source": [
    "\" \".join(f)"
   ]
  },
  {
   "cell_type": "code",
   "execution_count": 167,
   "id": "35af368b",
   "metadata": {},
   "outputs": [
    {
     "data": {
      "text/plain": [
       "'vhehrhmha'"
      ]
     },
     "execution_count": 167,
     "metadata": {},
     "output_type": "execute_result"
    }
   ],
   "source": [
    "\"h\".join(f)"
   ]
  },
  {
   "cell_type": "code",
   "execution_count": 170,
   "id": "a51a50bd",
   "metadata": {},
   "outputs": [
    {
     "data": {
      "text/plain": [
       "'geoeuereaev'"
      ]
     },
     "execution_count": 170,
     "metadata": {},
     "output_type": "execute_result"
    }
   ],
   "source": [
    "\"e\".join(e)"
   ]
  },
  {
   "cell_type": "code",
   "execution_count": 172,
   "id": "f119f49d",
   "metadata": {},
   "outputs": [
    {
     "data": {
      "text/plain": [
       "<reversed at 0x7f9e674d8df0>"
      ]
     },
     "execution_count": 172,
     "metadata": {},
     "output_type": "execute_result"
    }
   ],
   "source": [
    "reversed(\"gourav\")"
   ]
  },
  {
   "cell_type": "code",
   "execution_count": 201,
   "id": "6af72499",
   "metadata": {},
   "outputs": [],
   "source": [
    "a=\" goourav \""
   ]
  },
  {
   "cell_type": "code",
   "execution_count": 187,
   "id": "119463da",
   "metadata": {},
   "outputs": [
    {
     "data": {
      "text/plain": [
       "'goourav '"
      ]
     },
     "execution_count": 187,
     "metadata": {},
     "output_type": "execute_result"
    }
   ],
   "source": [
    "a.lstrip()"
   ]
  },
  {
   "cell_type": "code",
   "execution_count": 186,
   "id": "76b75804",
   "metadata": {},
   "outputs": [
    {
     "data": {
      "text/plain": [
       "' goourav'"
      ]
     },
     "execution_count": 186,
     "metadata": {},
     "output_type": "execute_result"
    }
   ],
   "source": [
    "a.rstrip()"
   ]
  },
  {
   "cell_type": "code",
   "execution_count": 185,
   "id": "79104843",
   "metadata": {},
   "outputs": [
    {
     "data": {
      "text/plain": [
       "'goourav'"
      ]
     },
     "execution_count": 185,
     "metadata": {},
     "output_type": "execute_result"
    }
   ],
   "source": [
    "a.strip()"
   ]
  },
  {
   "cell_type": "code",
   "execution_count": 184,
   "id": "4281efe6",
   "metadata": {},
   "outputs": [
    {
     "data": {
      "text/plain": [
       "' gfhjfhjurav '"
      ]
     },
     "execution_count": 184,
     "metadata": {},
     "output_type": "execute_result"
    }
   ],
   "source": [
    "a.replace(\"o\",\"fhj\")"
   ]
  },
  {
   "cell_type": "code",
   "execution_count": 189,
   "id": "09d7db96",
   "metadata": {},
   "outputs": [
    {
     "data": {
      "text/plain": [
       "'sudh    kumar'"
      ]
     },
     "execution_count": 189,
     "metadata": {},
     "output_type": "execute_result"
    }
   ],
   "source": [
    "\"sudh\\tkumar\".expandtabs()"
   ]
  },
  {
   "cell_type": "code",
   "execution_count": 191,
   "id": "82551f87",
   "metadata": {},
   "outputs": [],
   "source": [
    "d=\"gourav\""
   ]
  },
  {
   "cell_type": "code",
   "execution_count": 194,
   "id": "e21c2be1",
   "metadata": {},
   "outputs": [
    {
     "data": {
      "text/plain": [
       "'fffffffffffffffffffffffffffgouravfffffffffffffffffffffffffff'"
      ]
     },
     "execution_count": 194,
     "metadata": {},
     "output_type": "execute_result"
    }
   ],
   "source": [
    "d.center(60 , 'f')"
   ]
  },
  {
   "cell_type": "code",
   "execution_count": 195,
   "id": "0e3328b9",
   "metadata": {},
   "outputs": [
    {
     "name": "stdout",
     "output_type": "stream",
     "text": [
      " goourav \n"
     ]
    }
   ],
   "source": [
    "print(a)"
   ]
  },
  {
   "cell_type": "code",
   "execution_count": 196,
   "id": "8f9586a3",
   "metadata": {},
   "outputs": [
    {
     "data": {
      "text/plain": [
       "False"
      ]
     },
     "execution_count": 196,
     "metadata": {},
     "output_type": "execute_result"
    }
   ],
   "source": [
    "a.isupper()"
   ]
  },
  {
   "cell_type": "code",
   "execution_count": 197,
   "id": "7a1177e7",
   "metadata": {},
   "outputs": [
    {
     "data": {
      "text/plain": [
       "True"
      ]
     },
     "execution_count": 197,
     "metadata": {},
     "output_type": "execute_result"
    }
   ],
   "source": [
    "a.islower()"
   ]
  },
  {
   "cell_type": "code",
   "execution_count": 202,
   "id": "a4e62910",
   "metadata": {},
   "outputs": [
    {
     "data": {
      "text/plain": [
       "False"
      ]
     },
     "execution_count": 202,
     "metadata": {},
     "output_type": "execute_result"
    }
   ],
   "source": [
    "a.isspace()"
   ]
  },
  {
   "cell_type": "code",
   "execution_count": 207,
   "id": "e95e20c5",
   "metadata": {},
   "outputs": [],
   "source": [
    "e=\"3534534\""
   ]
  },
  {
   "cell_type": "code",
   "execution_count": 208,
   "id": "eb6d65f4",
   "metadata": {},
   "outputs": [
    {
     "data": {
      "text/plain": [
       "True"
      ]
     },
     "execution_count": 208,
     "metadata": {},
     "output_type": "execute_result"
    }
   ],
   "source": [
    "e.isdigit()"
   ]
  },
  {
   "cell_type": "code",
   "execution_count": 210,
   "id": "badba778",
   "metadata": {},
   "outputs": [],
   "source": [
    "b= \"verma\""
   ]
  },
  {
   "cell_type": "code",
   "execution_count": 212,
   "id": "fdee09a5",
   "metadata": {},
   "outputs": [
    {
     "data": {
      "text/plain": [
       "False"
      ]
     },
     "execution_count": 212,
     "metadata": {},
     "output_type": "execute_result"
    }
   ],
   "source": [
    "b.endswith(\"s\")"
   ]
  },
  {
   "cell_type": "code",
   "execution_count": 214,
   "id": "3420c118",
   "metadata": {},
   "outputs": [
    {
     "data": {
      "text/plain": [
       "True"
      ]
     },
     "execution_count": 214,
     "metadata": {},
     "output_type": "execute_result"
    }
   ],
   "source": [
    "b.endswith(\"a\")"
   ]
  },
  {
   "cell_type": "code",
   "execution_count": 215,
   "id": "f247ffb5",
   "metadata": {},
   "outputs": [
    {
     "data": {
      "text/plain": [
       "True"
      ]
     },
     "execution_count": 215,
     "metadata": {},
     "output_type": "execute_result"
    }
   ],
   "source": [
    "b.startswith(\"v\")"
   ]
  },
  {
   "cell_type": "code",
   "execution_count": 216,
   "id": "0fd29fb4",
   "metadata": {},
   "outputs": [
    {
     "data": {
      "text/plain": [
       "False"
      ]
     },
     "execution_count": 216,
     "metadata": {},
     "output_type": "execute_result"
    }
   ],
   "source": [
    "b.istitle()"
   ]
  },
  {
   "cell_type": "code",
   "execution_count": 219,
   "id": "d195de1f",
   "metadata": {},
   "outputs": [
    {
     "data": {
      "text/plain": [
       "'Verma'"
      ]
     },
     "execution_count": 219,
     "metadata": {},
     "output_type": "execute_result"
    }
   ],
   "source": [
    "b.title()"
   ]
  },
  {
   "cell_type": "code",
   "execution_count": 220,
   "id": "76a48d86",
   "metadata": {},
   "outputs": [
    {
     "data": {
      "text/plain": [
       "b'verma'"
      ]
     },
     "execution_count": 220,
     "metadata": {},
     "output_type": "execute_result"
    }
   ],
   "source": [
    "b.encode()"
   ]
  },
  {
   "cell_type": "code",
   "execution_count": 221,
   "id": "492839a1",
   "metadata": {},
   "outputs": [],
   "source": [
    "a=\"123\""
   ]
  },
  {
   "cell_type": "code",
   "execution_count": 222,
   "id": "b9aea240",
   "metadata": {},
   "outputs": [
    {
     "data": {
      "text/plain": [
       "123"
      ]
     },
     "execution_count": 222,
     "metadata": {},
     "output_type": "execute_result"
    }
   ],
   "source": [
    "int(a)"
   ]
  },
  {
   "cell_type": "code",
   "execution_count": 223,
   "id": "9df31bbc",
   "metadata": {},
   "outputs": [
    {
     "data": {
      "text/plain": [
       "'123'"
      ]
     },
     "execution_count": 223,
     "metadata": {},
     "output_type": "execute_result"
    }
   ],
   "source": [
    "str(a)"
   ]
  },
  {
   "cell_type": "code",
   "execution_count": 250,
   "id": "c3c7ca5b",
   "metadata": {},
   "outputs": [],
   "source": [
    "l=[\"gou\" , \"fg\" , 76 , 4+6j, True , 345.56]"
   ]
  },
  {
   "cell_type": "code",
   "execution_count": 226,
   "id": "9dacbe98",
   "metadata": {},
   "outputs": [
    {
     "data": {
      "text/plain": [
       "list"
      ]
     },
     "execution_count": 226,
     "metadata": {},
     "output_type": "execute_result"
    }
   ],
   "source": [
    "type(l)"
   ]
  },
  {
   "cell_type": "code",
   "execution_count": 232,
   "id": "0c8ac79d",
   "metadata": {},
   "outputs": [
    {
     "data": {
      "text/plain": [
       "'fg'"
      ]
     },
     "execution_count": 232,
     "metadata": {},
     "output_type": "execute_result"
    }
   ],
   "source": [
    "l[1]"
   ]
  },
  {
   "cell_type": "code",
   "execution_count": 233,
   "id": "b48815cb",
   "metadata": {},
   "outputs": [
    {
     "data": {
      "text/plain": [
       "345.56"
      ]
     },
     "execution_count": 233,
     "metadata": {},
     "output_type": "execute_result"
    }
   ],
   "source": [
    "l[4]"
   ]
  },
  {
   "cell_type": "code",
   "execution_count": 234,
   "id": "ff55a780",
   "metadata": {},
   "outputs": [
    {
     "data": {
      "text/plain": [
       "(4+6j)"
      ]
     },
     "execution_count": 234,
     "metadata": {},
     "output_type": "execute_result"
    }
   ],
   "source": [
    "l[3]"
   ]
  },
  {
   "cell_type": "code",
   "execution_count": 238,
   "id": "2da8400d",
   "metadata": {},
   "outputs": [
    {
     "data": {
      "text/plain": [
       "['gou', 76]"
      ]
     },
     "execution_count": 238,
     "metadata": {},
     "output_type": "execute_result"
    }
   ],
   "source": [
    "l[0:4:2]"
   ]
  },
  {
   "cell_type": "code",
   "execution_count": 239,
   "id": "df884fa7",
   "metadata": {},
   "outputs": [
    {
     "data": {
      "text/plain": [
       "'gou'"
      ]
     },
     "execution_count": 239,
     "metadata": {},
     "output_type": "execute_result"
    }
   ],
   "source": [
    "l[-5]"
   ]
  },
  {
   "cell_type": "code",
   "execution_count": 241,
   "id": "494aa66d",
   "metadata": {},
   "outputs": [
    {
     "data": {
      "text/plain": [
       "[345.56, 76]"
      ]
     },
     "execution_count": 241,
     "metadata": {},
     "output_type": "execute_result"
    }
   ],
   "source": [
    "l[-1:-5:-2]"
   ]
  },
  {
   "cell_type": "code",
   "execution_count": 244,
   "id": "8099e8e2",
   "metadata": {},
   "outputs": [
    {
     "data": {
      "text/plain": [
       "[345.56, (4+6j), 76, 'fg']"
      ]
     },
     "execution_count": 244,
     "metadata": {},
     "output_type": "execute_result"
    }
   ],
   "source": [
    "l[4:-5:-1]"
   ]
  },
  {
   "cell_type": "code",
   "execution_count": 245,
   "id": "2e6bbd87",
   "metadata": {},
   "outputs": [
    {
     "data": {
      "text/plain": [
       "int"
      ]
     },
     "execution_count": 245,
     "metadata": {},
     "output_type": "execute_result"
    }
   ],
   "source": [
    "type(3)"
   ]
  },
  {
   "cell_type": "code",
   "execution_count": 246,
   "id": "3a4c9863",
   "metadata": {},
   "outputs": [
    {
     "data": {
      "text/plain": [
       "int"
      ]
     },
     "execution_count": 246,
     "metadata": {},
     "output_type": "execute_result"
    }
   ],
   "source": [
    "type(4)"
   ]
  },
  {
   "cell_type": "code",
   "execution_count": 247,
   "id": "96435463",
   "metadata": {},
   "outputs": [
    {
     "data": {
      "text/plain": [
       "int"
      ]
     },
     "execution_count": 247,
     "metadata": {},
     "output_type": "execute_result"
    }
   ],
   "source": [
    "type(6)"
   ]
  },
  {
   "cell_type": "code",
   "execution_count": 251,
   "id": "48b3bada",
   "metadata": {},
   "outputs": [
    {
     "data": {
      "text/plain": [
       "int"
      ]
     },
     "execution_count": 251,
     "metadata": {},
     "output_type": "execute_result"
    }
   ],
   "source": [
    "type(5)"
   ]
  },
  {
   "cell_type": "code",
   "execution_count": 254,
   "id": "dc67c596",
   "metadata": {},
   "outputs": [
    {
     "data": {
      "text/plain": [
       "bool"
      ]
     },
     "execution_count": 254,
     "metadata": {},
     "output_type": "execute_result"
    }
   ],
   "source": [
    "type(l[4])"
   ]
  },
  {
   "cell_type": "code",
   "execution_count": 255,
   "id": "7163a6e9",
   "metadata": {},
   "outputs": [
    {
     "data": {
      "text/plain": [
       "complex"
      ]
     },
     "execution_count": 255,
     "metadata": {},
     "output_type": "execute_result"
    }
   ],
   "source": [
    "type(l[3])"
   ]
  },
  {
   "cell_type": "code",
   "execution_count": 257,
   "id": "17f96c96",
   "metadata": {},
   "outputs": [
    {
     "data": {
      "text/plain": [
       "float"
      ]
     },
     "execution_count": 257,
     "metadata": {},
     "output_type": "execute_result"
    }
   ],
   "source": [
    "type(l[5])"
   ]
  },
  {
   "cell_type": "code",
   "execution_count": 267,
   "id": "3ef27e38",
   "metadata": {},
   "outputs": [
    {
     "data": {
      "text/plain": [
       "['gou', 'fg', 76, (4+6j), True, 345.56, 'gou', 'fg', 76, (4+6j), True, 345.56]"
      ]
     },
     "execution_count": 267,
     "metadata": {},
     "output_type": "execute_result"
    }
   ],
   "source": [
    "l*2"
   ]
  },
  {
   "cell_type": "code",
   "execution_count": 265,
   "id": "41cbbdc6",
   "metadata": {},
   "outputs": [
    {
     "data": {
      "text/plain": [
       "6.0"
      ]
     },
     "execution_count": 265,
     "metadata": {},
     "output_type": "execute_result"
    }
   ],
   "source": [
    "l[3].imag"
   ]
  },
  {
   "cell_type": "markdown",
   "id": "c6d48991",
   "metadata": {},
   "source": [
    "l*4"
   ]
  },
  {
   "cell_type": "code",
   "execution_count": 268,
   "id": "f9db3096",
   "metadata": {},
   "outputs": [],
   "source": [
    "l[0]=\"hjdjkkds\""
   ]
  },
  {
   "cell_type": "code",
   "execution_count": 269,
   "id": "c1da4332",
   "metadata": {},
   "outputs": [
    {
     "data": {
      "text/plain": [
       "['hjdjkkds', 'fg', 76, (4+6j), True, 345.56]"
      ]
     },
     "execution_count": 269,
     "metadata": {},
     "output_type": "execute_result"
    }
   ],
   "source": [
    "l"
   ]
  },
  {
   "cell_type": "code",
   "execution_count": 270,
   "id": "a5e0cf91",
   "metadata": {},
   "outputs": [
    {
     "data": {
      "text/plain": [
       "'fg'"
      ]
     },
     "execution_count": 270,
     "metadata": {},
     "output_type": "execute_result"
    }
   ],
   "source": [
    "l[1]"
   ]
  },
  {
   "cell_type": "code",
   "execution_count": 273,
   "id": "ba60192b",
   "metadata": {},
   "outputs": [
    {
     "ename": "SyntaxError",
     "evalue": "cannot assign to function call (1823517062.py, line 1)",
     "output_type": "error",
     "traceback": [
      "\u001b[0;36m  File \u001b[0;32m\"/var/folders/hd/ydk6mn5157b0c67q32svhf8r0000gn/T/ipykernel_937/1823517062.py\"\u001b[0;36m, line \u001b[0;32m1\u001b[0m\n\u001b[0;31m    l(1[1])=d\u001b[0m\n\u001b[0m    ^\u001b[0m\n\u001b[0;31mSyntaxError\u001b[0m\u001b[0;31m:\u001b[0m cannot assign to function call\n"
     ]
    }
   ],
   "source": [
    "l(1[1])=d"
   ]
  },
  {
   "cell_type": "code",
   "execution_count": 275,
   "id": "1f20d2cd",
   "metadata": {},
   "outputs": [],
   "source": [
    "v=\"gourav\""
   ]
  },
  {
   "cell_type": "code",
   "execution_count": 277,
   "id": "2728b2db",
   "metadata": {},
   "outputs": [
    {
     "data": {
      "text/plain": [
       "'hourav'"
      ]
     },
     "execution_count": 277,
     "metadata": {},
     "output_type": "execute_result"
    }
   ],
   "source": [
    "v.replace('g','h')"
   ]
  },
  {
   "cell_type": "code",
   "execution_count": 279,
   "id": "eeff6098",
   "metadata": {},
   "outputs": [
    {
     "data": {
      "text/plain": [
       "True"
      ]
     },
     "execution_count": 279,
     "metadata": {},
     "output_type": "execute_result"
    }
   ],
   "source": [
    "'fg' in l"
   ]
  },
  {
   "cell_type": "code",
   "execution_count": 280,
   "id": "a23727f5",
   "metadata": {},
   "outputs": [
    {
     "data": {
      "text/plain": [
       "False"
      ]
     },
     "execution_count": 280,
     "metadata": {},
     "output_type": "execute_result"
    }
   ],
   "source": [
    "4766 in l"
   ]
  },
  {
   "cell_type": "code",
   "execution_count": 281,
   "id": "ff0458a6",
   "metadata": {},
   "outputs": [
    {
     "data": {
      "text/plain": [
       "['hjdjkkds', 'fg', 76, (4+6j), True, 345.56]"
      ]
     },
     "execution_count": 281,
     "metadata": {},
     "output_type": "execute_result"
    }
   ],
   "source": [
    "l"
   ]
  },
  {
   "cell_type": "code",
   "execution_count": 282,
   "id": "49858b59",
   "metadata": {},
   "outputs": [
    {
     "data": {
      "text/plain": [
       "6"
      ]
     },
     "execution_count": 282,
     "metadata": {},
     "output_type": "execute_result"
    }
   ],
   "source": [
    "len(l)"
   ]
  },
  {
   "cell_type": "code",
   "execution_count": 284,
   "id": "1ca17b6e",
   "metadata": {},
   "outputs": [
    {
     "data": {
      "text/plain": [
       "True"
      ]
     },
     "execution_count": 284,
     "metadata": {},
     "output_type": "execute_result"
    }
   ],
   "source": [
    "76in l"
   ]
  },
  {
   "cell_type": "code",
   "execution_count": 285,
   "id": "896f05c2",
   "metadata": {},
   "outputs": [],
   "source": [
    " l.append(\"gourav\")"
   ]
  },
  {
   "cell_type": "code",
   "execution_count": 286,
   "id": "98083579",
   "metadata": {},
   "outputs": [
    {
     "data": {
      "text/plain": [
       "['hjdjkkds', 'fg', 76, (4+6j), True, 345.56, 'gourav']"
      ]
     },
     "execution_count": 286,
     "metadata": {},
     "output_type": "execute_result"
    }
   ],
   "source": [
    "l"
   ]
  },
  {
   "cell_type": "code",
   "execution_count": 288,
   "id": "3eccb8bf",
   "metadata": {},
   "outputs": [
    {
     "data": {
      "text/plain": [
       "'gourav'"
      ]
     },
     "execution_count": 288,
     "metadata": {},
     "output_type": "execute_result"
    }
   ],
   "source": [
    " l.pop()"
   ]
  },
  {
   "cell_type": "code",
   "execution_count": 294,
   "id": "8ea967b1",
   "metadata": {},
   "outputs": [
    {
     "data": {
      "text/plain": [
       "['hjdjkkds', 'fg', (4+6j), True, 345.56]"
      ]
     },
     "execution_count": 294,
     "metadata": {},
     "output_type": "execute_result"
    }
   ],
   "source": [
    "l"
   ]
  },
  {
   "cell_type": "code",
   "execution_count": 295,
   "id": "2e0fda3f",
   "metadata": {},
   "outputs": [
    {
     "data": {
      "text/plain": [
       "['hjdjkkds', 'fg', (4+6j), True, 345.56]"
      ]
     },
     "execution_count": 295,
     "metadata": {},
     "output_type": "execute_result"
    }
   ],
   "source": [
    "l"
   ]
  },
  {
   "cell_type": "code",
   "execution_count": 296,
   "id": "01c48d1f",
   "metadata": {},
   "outputs": [
    {
     "data": {
      "text/plain": [
       "(4+6j)"
      ]
     },
     "execution_count": 296,
     "metadata": {},
     "output_type": "execute_result"
    }
   ],
   "source": [
    "l.pop(2)"
   ]
  },
  {
   "cell_type": "code",
   "execution_count": 297,
   "id": "0d1f738e",
   "metadata": {},
   "outputs": [],
   "source": [
    "l.insert(3,\"gourav\")"
   ]
  },
  {
   "cell_type": "code",
   "execution_count": 298,
   "id": "ad397686",
   "metadata": {},
   "outputs": [
    {
     "data": {
      "text/plain": [
       "['hjdjkkds', 'fg', True, 'gourav', 345.56]"
      ]
     },
     "execution_count": 298,
     "metadata": {},
     "output_type": "execute_result"
    }
   ],
   "source": [
    "l"
   ]
  },
  {
   "cell_type": "code",
   "execution_count": 300,
   "id": "163e771d",
   "metadata": {},
   "outputs": [],
   "source": [
    "m=[\"xy\", 23]"
   ]
  },
  {
   "cell_type": "code",
   "execution_count": 303,
   "id": "6800789b",
   "metadata": {},
   "outputs": [],
   "source": [
    "l.insert(2,[1,2,3,3])"
   ]
  },
  {
   "cell_type": "code",
   "execution_count": 304,
   "id": "44ac8730",
   "metadata": {},
   "outputs": [
    {
     "data": {
      "text/plain": [
       "['hjdjkkds', 'fg', [1, 2, 3, 3], True, 'gourav', 345.56]"
      ]
     },
     "execution_count": 304,
     "metadata": {},
     "output_type": "execute_result"
    }
   ],
   "source": [
    "l"
   ]
  },
  {
   "cell_type": "code",
   "execution_count": 306,
   "id": "48b42337",
   "metadata": {},
   "outputs": [],
   "source": [
    "l.reverse()"
   ]
  },
  {
   "cell_type": "code",
   "execution_count": 307,
   "id": "2f99d2d5",
   "metadata": {},
   "outputs": [
    {
     "data": {
      "text/plain": [
       "[345.56, 'gourav', True, [1, 2, 3, 3], 'fg', 'hjdjkkds']"
      ]
     },
     "execution_count": 307,
     "metadata": {},
     "output_type": "execute_result"
    }
   ],
   "source": [
    "l"
   ]
  },
  {
   "cell_type": "code",
   "execution_count": 309,
   "id": "d42299ae",
   "metadata": {},
   "outputs": [
    {
     "data": {
      "text/plain": [
       "['hjdjkkds', 'fg', [1, 2, 3, 3], True, 'gourav', 345.56]"
      ]
     },
     "execution_count": 309,
     "metadata": {},
     "output_type": "execute_result"
    }
   ],
   "source": [
    "l[::-1]"
   ]
  },
  {
   "cell_type": "code",
   "execution_count": 311,
   "id": "4aa91fe2",
   "metadata": {},
   "outputs": [
    {
     "data": {
      "text/plain": [
       "True"
      ]
     },
     "execution_count": 311,
     "metadata": {},
     "output_type": "execute_result"
    }
   ],
   "source": [
    "l[2]"
   ]
  },
  {
   "cell_type": "code",
   "execution_count": 312,
   "id": "bf4fc8b0",
   "metadata": {},
   "outputs": [
    {
     "data": {
      "text/plain": [
       "3"
      ]
     },
     "execution_count": 312,
     "metadata": {},
     "output_type": "execute_result"
    }
   ],
   "source": [
    "l[3][2]"
   ]
  },
  {
   "cell_type": "code",
   "execution_count": 315,
   "id": "5734c51a",
   "metadata": {},
   "outputs": [
    {
     "data": {
      "text/plain": [
       "2"
      ]
     },
     "execution_count": 315,
     "metadata": {},
     "output_type": "execute_result"
    }
   ],
   "source": [
    "l[3][1]"
   ]
  },
  {
   "cell_type": "code",
   "execution_count": 317,
   "id": "7e6b3178",
   "metadata": {},
   "outputs": [
    {
     "data": {
      "text/plain": [
       "1"
      ]
     },
     "execution_count": 317,
     "metadata": {},
     "output_type": "execute_result"
    }
   ],
   "source": [
    "l.count(\"gourav\")"
   ]
  },
  {
   "cell_type": "code",
   "execution_count": 319,
   "id": "129662c8",
   "metadata": {},
   "outputs": [],
   "source": [
    "l.append([23,23,23,])"
   ]
  },
  {
   "cell_type": "code",
   "execution_count": 320,
   "id": "5238e38a",
   "metadata": {},
   "outputs": [
    {
     "data": {
      "text/plain": [
       "[345.56, 'gourav', True, [1, 2, 3, 3], 'fg', 'hjdjkkds', [23, 23, 23]]"
      ]
     },
     "execution_count": 320,
     "metadata": {},
     "output_type": "execute_result"
    }
   ],
   "source": [
    "l"
   ]
  },
  {
   "cell_type": "code",
   "execution_count": 322,
   "id": "8d8cdfca",
   "metadata": {},
   "outputs": [],
   "source": [
    "l.extend([\"dhjfsjd\",\"djfjkdsjf\"])"
   ]
  },
  {
   "cell_type": "code",
   "execution_count": 323,
   "id": "ab9d82ab",
   "metadata": {},
   "outputs": [
    {
     "data": {
      "text/plain": [
       "[345.56,\n",
       " 'gourav',\n",
       " True,\n",
       " [1, 2, 3, 3],\n",
       " 'fg',\n",
       " 'hjdjkkds',\n",
       " [23, 23, 23],\n",
       " 'dhjfsjd',\n",
       " 'djfjkdsjf']"
      ]
     },
     "execution_count": 323,
     "metadata": {},
     "output_type": "execute_result"
    }
   ],
   "source": [
    "l"
   ]
  },
  {
   "cell_type": "code",
   "execution_count": 328,
   "id": "cbbf33ba",
   "metadata": {},
   "outputs": [
    {
     "data": {
      "text/plain": [
       "['3', '4', '5', 'g', 'g', 'h', '4', '4', '5']"
      ]
     },
     "execution_count": 328,
     "metadata": {},
     "output_type": "execute_result"
    }
   ],
   "source": [
    "list(\"345ggh445\")"
   ]
  },
  {
   "cell_type": "code",
   "execution_count": 1,
   "id": "f04737ee",
   "metadata": {},
   "outputs": [
    {
     "data": {
      "text/plain": [
       "'fghjgfgjk       xfcghjhg                gcfgjf'"
      ]
     },
     "execution_count": 1,
     "metadata": {},
     "output_type": "execute_result"
    }
   ],
   "source": [
    "\"fghjgfgjk\\txfcghjhg\\t\\tgcfgjf\".expandtabs()"
   ]
  },
  {
   "cell_type": "code",
   "execution_count": 3,
   "id": "9bc0919e",
   "metadata": {},
   "outputs": [
    {
     "ename": "NameError",
     "evalue": "name 'l' is not defined",
     "output_type": "error",
     "traceback": [
      "\u001b[0;31m---------------------------------------------------------------------------\u001b[0m",
      "\u001b[0;31mNameError\u001b[0m                                 Traceback (most recent call last)",
      "\u001b[0;32m/var/folders/hd/ydk6mn5157b0c67q32svhf8r0000gn/T/ipykernel_641/3723490112.py\u001b[0m in \u001b[0;36m<module>\u001b[0;34m\u001b[0m\n\u001b[0;32m----> 1\u001b[0;31m \u001b[0ml\u001b[0m\u001b[0;34m\u001b[0m\u001b[0;34m\u001b[0m\u001b[0m\n\u001b[0m",
      "\u001b[0;31mNameError\u001b[0m: name 'l' is not defined"
     ]
    }
   ],
   "source": []
  },
  {
   "cell_type": "code",
   "execution_count": 6,
   "id": "ca628ca8",
   "metadata": {},
   "outputs": [
    {
     "ename": "NameError",
     "evalue": "name 'l' is not defined",
     "output_type": "error",
     "traceback": [
      "\u001b[0;31m---------------------------------------------------------------------------\u001b[0m",
      "\u001b[0;31mNameError\u001b[0m                                 Traceback (most recent call last)",
      "\u001b[0;32m/var/folders/hd/ydk6mn5157b0c67q32svhf8r0000gn/T/ipykernel_641/3590848569.py\u001b[0m in \u001b[0;36m<module>\u001b[0;34m\u001b[0m\n\u001b[0;32m----> 1\u001b[0;31m \u001b[0ml\u001b[0m\u001b[0;34m.\u001b[0m\u001b[0mcount\u001b[0m\u001b[0;34m(\u001b[0m\u001b[0;34m)\u001b[0m\u001b[0;34m\u001b[0m\u001b[0;34m\u001b[0m\u001b[0m\n\u001b[0m",
      "\u001b[0;31mNameError\u001b[0m: name 'l' is not defined"
     ]
    }
   ],
   "source": [
    "l.count()"
   ]
  },
  {
   "cell_type": "code",
   "execution_count": 7,
   "id": "bafba857",
   "metadata": {},
   "outputs": [],
   "source": [
    "a= \"gourav\""
   ]
  },
  {
   "cell_type": "code",
   "execution_count": 9,
   "id": "7c73cc10",
   "metadata": {},
   "outputs": [
    {
     "data": {
      "text/plain": [
       "['gourav']"
      ]
     },
     "execution_count": 9,
     "metadata": {},
     "output_type": "execute_result"
    }
   ],
   "source": [
    "a.split()"
   ]
  },
  {
   "cell_type": "code",
   "execution_count": null,
   "id": "926c8e7c",
   "metadata": {},
   "outputs": [],
   "source": []
  }
 ],
 "metadata": {
  "kernelspec": {
   "display_name": "Python 3 (ipykernel)",
   "language": "python",
   "name": "python3"
  },
  "language_info": {
   "codemirror_mode": {
    "name": "ipython",
    "version": 3
   },
   "file_extension": ".py",
   "mimetype": "text/x-python",
   "name": "python",
   "nbconvert_exporter": "python",
   "pygments_lexer": "ipython3",
   "version": "3.9.7"
  }
 },
 "nbformat": 4,
 "nbformat_minor": 5
}
