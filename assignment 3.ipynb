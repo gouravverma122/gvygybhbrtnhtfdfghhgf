{
 "cells": [
  {
   "cell_type": "code",
   "execution_count": 1,
   "id": "dabca8af",
   "metadata": {},
   "outputs": [
    {
     "data": {
      "text/plain": [
       "'Functions reduce the need for duplicate code. This makes programs shorter, easier to read, and easier to update.'"
      ]
     },
     "execution_count": 1,
     "metadata": {},
     "output_type": "execute_result"
    }
   ],
   "source": [
    "#Why are functions advantageous to have in your programs?\n",
    "\"\"\"Functions reduce the need for duplicate code. This makes programs shorter, easier to read and easier to update.\"\"\""
   ]
  },
  {
   "cell_type": "code",
   "execution_count": 2,
   "id": "08ba27f3",
   "metadata": {},
   "outputs": [
    {
     "data": {
      "text/plain": [
       "'The code in a function runs when the function is called, not when the function is specified.'"
      ]
     },
     "execution_count": 2,
     "metadata": {},
     "output_type": "execute_result"
    }
   ],
   "source": [
    "#When does the code in a function run: when it's specified or when it's called?\n",
    "\"\"\"The code in a function runs when the function is called, not when the function is specified.\"\"\""
   ]
  },
  {
   "cell_type": "code",
   "execution_count": 5,
   "id": "56c7b545",
   "metadata": {},
   "outputs": [
    {
     "data": {
      "text/plain": [
       "'def'"
      ]
     },
     "execution_count": 5,
     "metadata": {},
     "output_type": "execute_result"
    }
   ],
   "source": [
    "#What statement creates a function?\n",
    "\"\"\"def\"\"\""
   ]
  },
  {
   "cell_type": "code",
   "execution_count": 7,
   "id": "f29676bd",
   "metadata": {},
   "outputs": [
    {
     "data": {
      "text/plain": [
       "\"A function consists of the def statement and the code in its def clause.And a function call is what moves the program execution into the function, and the function call evaluates to the function's return value.\""
      ]
     },
     "execution_count": 7,
     "metadata": {},
     "output_type": "execute_result"
    }
   ],
   "source": [
    "#What is the difference between a function and a function call?\n",
    "\"\"\"A function consists of the def statement and the code in its def clause.And a function call is what moves the program execution into the function, and the function call evaluates to the function's return value.\"\"\""
   ]
  },
  {
   "cell_type": "code",
   "execution_count": 8,
   "id": "73b38a02",
   "metadata": {},
   "outputs": [
    {
     "data": {
      "text/plain": [
       "'here is one global scope, and a local scope is created whenever a function is called.'"
      ]
     },
     "execution_count": 8,
     "metadata": {},
     "output_type": "execute_result"
    }
   ],
   "source": [
    "#How many global scopes are there in a Python program? How many local scopes?\n",
    "\"\"\"here is one global scope, and a local scope is created whenever a function is called.\"\"\""
   ]
  },
  {
   "cell_type": "code",
   "execution_count": 9,
   "id": "3f6cc53c",
   "metadata": {},
   "outputs": [
    {
     "data": {
      "text/plain": [
       "'When a function returns, the local scope is destroyed, and all the variables in it are forgotten.'"
      ]
     },
     "execution_count": 9,
     "metadata": {},
     "output_type": "execute_result"
    }
   ],
   "source": [
    "#What happens to variables in a local scope when the function call returns?\n",
    "\"\"\"When a function returns, the local scope is destroyed, and all the variables in it are forgotten.\"\"\""
   ]
  },
  {
   "cell_type": "code",
   "execution_count": 10,
   "id": "0c066b10",
   "metadata": {},
   "outputs": [
    {
     "data": {
      "text/plain": [
       "'A return value is the value that a function call evaluates to. Like any value, a return value can be used as part of an expression.'"
      ]
     },
     "execution_count": 10,
     "metadata": {},
     "output_type": "execute_result"
    }
   ],
   "source": [
    "#What is the concept of a return value? Is it possible to have a return value in an expression?\n",
    "\"\"\"A return value is the value that a function call evaluates to. Like any value, a return value can be used as part of an expression.\"\"\""
   ]
  },
  {
   "cell_type": "code",
   "execution_count": 11,
   "id": "c6038342",
   "metadata": {},
   "outputs": [
    {
     "data": {
      "text/plain": [
       "'none'"
      ]
     },
     "execution_count": 11,
     "metadata": {},
     "output_type": "execute_result"
    }
   ],
   "source": [
    "#If a function does not have a return statement, what is the return value of a call to that function?\n",
    "\"\"\"none\"\"\""
   ]
  },
  {
   "cell_type": "code",
   "execution_count": 12,
   "id": "f1cbb34a",
   "metadata": {},
   "outputs": [
    {
     "data": {
      "text/plain": [
       "'A global statement will force a variable in a function to refer to the global variable.'"
      ]
     },
     "execution_count": 12,
     "metadata": {},
     "output_type": "execute_result"
    }
   ],
   "source": [
    "#How do you make a function variable refer to the global variable?\n",
    "\"\"\"A global statement will force a variable in a function to refer to the global variable.\"\"\""
   ]
  },
  {
   "cell_type": "code",
   "execution_count": 13,
   "id": "504a9b6b",
   "metadata": {},
   "outputs": [
    {
     "data": {
      "text/plain": [
       "'nonetype'"
      ]
     },
     "execution_count": 13,
     "metadata": {},
     "output_type": "execute_result"
    }
   ],
   "source": [
    "#What is the data type of None?\n",
    "\"\"\"nonetype\"\"\""
   ]
  },
  {
   "cell_type": "code",
   "execution_count": 15,
   "id": "64747255",
   "metadata": {},
   "outputs": [
    {
     "data": {
      "text/plain": [
       "'That import statement imports a module named areallyourpetsnamederic.'"
      ]
     },
     "execution_count": 15,
     "metadata": {},
     "output_type": "execute_result"
    }
   ],
   "source": [
    "#What does the sentence import areallyourpetsnamederic do?\n",
    "\"\"\"That import statement imports a module named areallyourpetsnamederic.\"\"\""
   ]
  },
  {
   "cell_type": "code",
   "execution_count": 16,
   "id": "cc28335a",
   "metadata": {},
   "outputs": [
    {
     "data": {
      "text/plain": [
       "' spam.bacon().'"
      ]
     },
     "execution_count": 16,
     "metadata": {},
     "output_type": "execute_result"
    }
   ],
   "source": [
    "#If you had a bacon() feature in a spam module, what would you call it after importing spam?\n",
    "\"\"\" spam.bacon().\"\"\""
   ]
  },
  {
   "cell_type": "code",
   "execution_count": 17,
   "id": "d7b25c66",
   "metadata": {},
   "outputs": [
    {
     "data": {
      "text/plain": [
       "'Place the line of code that might cause an error in a try clause.'"
      ]
     },
     "execution_count": 17,
     "metadata": {},
     "output_type": "execute_result"
    }
   ],
   "source": [
    "#What can you do to save a programme from crashing if it encounters an error?\n",
    "\"\"\"Place the line of code that might cause an error in a try clause.\"\"\""
   ]
  },
  {
   "cell_type": "code",
   "execution_count": 20,
   "id": "a833f7d7",
   "metadata": {},
   "outputs": [
    {
     "data": {
      "text/plain": [
       "'The code that could potentially cause an error goes in the try clause. The code that executes if an error happens goes in the except clause.'"
      ]
     },
     "execution_count": 20,
     "metadata": {},
     "output_type": "execute_result"
    }
   ],
   "source": [
    "#What is the purpose of the try clause? What is the purpose of the except clause?\n",
    "\"\"\"The code that could potentially cause an error goes in the try clause. The code that executes if an error happens goes in the except clause.\"\"\""
   ]
  },
  {
   "cell_type": "code",
   "execution_count": null,
   "id": "5aba57c4",
   "metadata": {},
   "outputs": [],
   "source": []
  }
 ],
 "metadata": {
  "kernelspec": {
   "display_name": "Python 3 (ipykernel)",
   "language": "python",
   "name": "python3"
  },
  "language_info": {
   "codemirror_mode": {
    "name": "ipython",
    "version": 3
   },
   "file_extension": ".py",
   "mimetype": "text/x-python",
   "name": "python",
   "nbconvert_exporter": "python",
   "pygments_lexer": "ipython3",
   "version": "3.9.7"
  }
 },
 "nbformat": 4,
 "nbformat_minor": 5
}
